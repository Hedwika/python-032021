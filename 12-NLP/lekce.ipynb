{
 "cells": [
  {
   "cell_type": "code",
   "execution_count": 1,
   "id": "26589de1",
   "metadata": {},
   "outputs": [],
   "source": [
    "import pandas\n",
    "import requests\n",
    "\n",
    "from sklearn.svm import LinearSVC\n",
    "from sklearn.pipeline import Pipeline\n",
    "from sklearn.neighbors import KNeighborsClassifier\n",
    "from sklearn.model_selection import train_test_split, GridSearchCV\n",
    "from sklearn.feature_extraction.text import CountVectorizer, TfidfVectorizer\n",
    "from sklearn.metrics import (\n",
    "    confusion_matrix,\n",
    "    ConfusionMatrixDisplay,\n",
    "    f1_score,\n",
    "    accuracy_score,\n",
    ")"
   ]
  },
  {
   "cell_type": "code",
   "execution_count": 2,
   "id": "07ffca97",
   "metadata": {},
   "outputs": [
    {
     "data": {
      "text/plain": [
       "9178038"
      ]
     },
     "execution_count": 2,
     "metadata": {},
     "output_type": "execute_result"
    }
   ],
   "source": [
    "r = requests.get(\"https://raw.githubusercontent.com/lutydlitatova/czechitas-datasets/main/datasets/movies.csv\")\n",
    "open(\"movies.csv\", \"wb\").write(r.content)"
   ]
  },
  {
   "cell_type": "code",
   "execution_count": 3,
   "id": "4050b5bf",
   "metadata": {},
   "outputs": [
    {
     "data": {
      "text/html": [
       "<div>\n",
       "<style scoped>\n",
       "    .dataframe tbody tr th:only-of-type {\n",
       "        vertical-align: middle;\n",
       "    }\n",
       "\n",
       "    .dataframe tbody tr th {\n",
       "        vertical-align: top;\n",
       "    }\n",
       "\n",
       "    .dataframe thead th {\n",
       "        text-align: right;\n",
       "    }\n",
       "</style>\n",
       "<table border=\"1\" class=\"dataframe\">\n",
       "  <thead>\n",
       "    <tr style=\"text-align: right;\">\n",
       "      <th></th>\n",
       "      <th>title</th>\n",
       "      <th>genre</th>\n",
       "      <th>text</th>\n",
       "    </tr>\n",
       "  </thead>\n",
       "  <tbody>\n",
       "    <tr>\n",
       "      <th>0</th>\n",
       "      <td>Santa Barbara (2014)</td>\n",
       "      <td>romance</td>\n",
       "      <td>Because of his close friend's betrayal, music ...</td>\n",
       "    </tr>\n",
       "    <tr>\n",
       "      <th>1</th>\n",
       "      <td>Behen Hogi Teri (2017)</td>\n",
       "      <td>comedy</td>\n",
       "      <td>Gattu (Rajkummar Rao) has a problem, he loves ...</td>\n",
       "    </tr>\n",
       "    <tr>\n",
       "      <th>2</th>\n",
       "      <td>The Last Coffin (2003)</td>\n",
       "      <td>horror</td>\n",
       "      <td>In the movie, a strange crossword puzzle start...</td>\n",
       "    </tr>\n",
       "    <tr>\n",
       "      <th>3</th>\n",
       "      <td>Lady Krampus (2016)</td>\n",
       "      <td>horror</td>\n",
       "      <td>It's Christmas time in Cleveland, Ohio and fou...</td>\n",
       "    </tr>\n",
       "    <tr>\n",
       "      <th>4</th>\n",
       "      <td>\"Pandemic\" (2016)</td>\n",
       "      <td>thriller</td>\n",
       "      <td>A deadly virus is unleashed on the fictional n...</td>\n",
       "    </tr>\n",
       "    <tr>\n",
       "      <th>...</th>\n",
       "      <td>...</td>\n",
       "      <td>...</td>\n",
       "      <td>...</td>\n",
       "    </tr>\n",
       "    <tr>\n",
       "      <th>14903</th>\n",
       "      <td>W.M.D. (2009)</td>\n",
       "      <td>thriller</td>\n",
       "      <td>It's 2002; America and the UK are pushing hard...</td>\n",
       "    </tr>\n",
       "    <tr>\n",
       "      <th>14904</th>\n",
       "      <td>Laramie Mountains (1952)</td>\n",
       "      <td>western</td>\n",
       "      <td>Markham and his men have found gold on the Ind...</td>\n",
       "    </tr>\n",
       "    <tr>\n",
       "      <th>14905</th>\n",
       "      <td>\"Tycoon\" (2017)</td>\n",
       "      <td>thriller</td>\n",
       "      <td>In Miami, a young woman Natalie Boyle gets a s...</td>\n",
       "    </tr>\n",
       "    <tr>\n",
       "      <th>14906</th>\n",
       "      <td>\"Louis Grant\" (2012)</td>\n",
       "      <td>comedy</td>\n",
       "      <td>Louis now has sole responsibility for his nine...</td>\n",
       "    </tr>\n",
       "    <tr>\n",
       "      <th>14907</th>\n",
       "      <td>For Your Consideration (2006)</td>\n",
       "      <td>comedy</td>\n",
       "      <td>Hollywood send-up. No-name actors are making a...</td>\n",
       "    </tr>\n",
       "  </tbody>\n",
       "</table>\n",
       "<p>14908 rows × 3 columns</p>\n",
       "</div>"
      ],
      "text/plain": [
       "                               title     genre  \\\n",
       "0               Santa Barbara (2014)   romance   \n",
       "1             Behen Hogi Teri (2017)    comedy   \n",
       "2             The Last Coffin (2003)    horror   \n",
       "3                Lady Krampus (2016)    horror   \n",
       "4                  \"Pandemic\" (2016)  thriller   \n",
       "...                              ...       ...   \n",
       "14903                  W.M.D. (2009)  thriller   \n",
       "14904       Laramie Mountains (1952)   western   \n",
       "14905                \"Tycoon\" (2017)  thriller   \n",
       "14906           \"Louis Grant\" (2012)    comedy   \n",
       "14907  For Your Consideration (2006)    comedy   \n",
       "\n",
       "                                                    text  \n",
       "0      Because of his close friend's betrayal, music ...  \n",
       "1      Gattu (Rajkummar Rao) has a problem, he loves ...  \n",
       "2      In the movie, a strange crossword puzzle start...  \n",
       "3      It's Christmas time in Cleveland, Ohio and fou...  \n",
       "4      A deadly virus is unleashed on the fictional n...  \n",
       "...                                                  ...  \n",
       "14903  It's 2002; America and the UK are pushing hard...  \n",
       "14904  Markham and his men have found gold on the Ind...  \n",
       "14905  In Miami, a young woman Natalie Boyle gets a s...  \n",
       "14906  Louis now has sole responsibility for his nine...  \n",
       "14907  Hollywood send-up. No-name actors are making a...  \n",
       "\n",
       "[14908 rows x 3 columns]"
      ]
     },
     "execution_count": 3,
     "metadata": {},
     "output_type": "execute_result"
    }
   ],
   "source": [
    "data = pandas.read_csv(\"movies.csv\")\n",
    "data"
   ]
  },
  {
   "cell_type": "code",
   "execution_count": 4,
   "id": "c4e5c25a",
   "metadata": {},
   "outputs": [],
   "source": [
    "X = data[\"text\"]\n",
    "y = data[\"genre\"]\n",
    "\n",
    "X_train, X_test, y_train, y_test = train_test_split(X, y, stratify=y, random_state=0)"
   ]
  },
  {
   "cell_type": "code",
   "execution_count": 5,
   "id": "f0267206",
   "metadata": {},
   "outputs": [
    {
     "data": {
      "text/plain": [
       "<AxesSubplot:>"
      ]
     },
     "execution_count": 5,
     "metadata": {},
     "output_type": "execute_result"
    },
    {
     "data": {
      "image/png": "[encoded data removed]",
      "text/plain": [
       "<Figure size 432x288 with 1 Axes>"
      ]
     },
     "metadata": {
      "needs_background": "light"
     },
     "output_type": "display_data"
    }
   ],
   "source": [
    "y_train.value_counts(normalize=True).plot(kind=\"bar\")"
   ]
  },
  {
   "cell_type": "markdown",
   "id": "83e3301b",
   "metadata": {},
   "source": [
    "Pomůžeme si třídou CountVectorizer z balíčku scikit-learn. Můžeme se podívat i na implementaci ve zdrojovém kódu, která není nijak zvlášť složitá: https://github.com/scikit-learn/scikit-learn/blob/0d378913b/sklearn/feature_extraction/text.py#L884"
   ]
  },
  {
   "cell_type": "code",
   "execution_count": 6,
   "id": "b6c3358a",
   "metadata": {},
   "outputs": [],
   "source": [
    "vec = CountVectorizer()\n",
    "X_train = vec.fit_transform(X_train)\n",
    "X_test = vec.transform(X_test)"
   ]
  },
  {
   "cell_type": "code",
   "execution_count": 7,
   "id": "5104f115",
   "metadata": {},
   "outputs": [
    {
     "data": {
      "text/html": [
       "<div>\n",
       "<style scoped>\n",
       "    .dataframe tbody tr th:only-of-type {\n",
       "        vertical-align: middle;\n",
       "    }\n",
       "\n",
       "    .dataframe tbody tr th {\n",
       "        vertical-align: top;\n",
       "    }\n",
       "\n",
       "    .dataframe thead th {\n",
       "        text-align: right;\n",
       "    }\n",
       "</style>\n",
       "<table border=\"1\" class=\"dataframe\">\n",
       "  <thead>\n",
       "    <tr style=\"text-align: right;\">\n",
       "      <th></th>\n",
       "      <th>00</th>\n",
       "      <th>000</th>\n",
       "      <th>003</th>\n",
       "      <th>007</th>\n",
       "      <th>0074</th>\n",
       "      <th>0077</th>\n",
       "      <th>01</th>\n",
       "      <th>05pm</th>\n",
       "      <th>06</th>\n",
       "      <th>07</th>\n",
       "      <th>...</th>\n",
       "      <th>ł10</th>\n",
       "      <th>ł400</th>\n",
       "      <th>ł500</th>\n",
       "      <th>ł5000</th>\n",
       "      <th>řker</th>\n",
       "      <th>ťgoes</th>\n",
       "      <th>ťknow</th>\n",
       "      <th>ťthe</th>\n",
       "      <th>źs</th>\n",
       "      <th>žš</th>\n",
       "    </tr>\n",
       "  </thead>\n",
       "  <tbody>\n",
       "    <tr>\n",
       "      <th>0</th>\n",
       "      <td>0</td>\n",
       "      <td>0</td>\n",
       "      <td>0</td>\n",
       "      <td>0</td>\n",
       "      <td>0</td>\n",
       "      <td>0</td>\n",
       "      <td>0</td>\n",
       "      <td>0</td>\n",
       "      <td>0</td>\n",
       "      <td>0</td>\n",
       "      <td>...</td>\n",
       "      <td>0</td>\n",
       "      <td>0</td>\n",
       "      <td>0</td>\n",
       "      <td>0</td>\n",
       "      <td>0</td>\n",
       "      <td>0</td>\n",
       "      <td>0</td>\n",
       "      <td>0</td>\n",
       "      <td>0</td>\n",
       "      <td>0</td>\n",
       "    </tr>\n",
       "    <tr>\n",
       "      <th>1</th>\n",
       "      <td>0</td>\n",
       "      <td>0</td>\n",
       "      <td>0</td>\n",
       "      <td>0</td>\n",
       "      <td>0</td>\n",
       "      <td>0</td>\n",
       "      <td>0</td>\n",
       "      <td>0</td>\n",
       "      <td>0</td>\n",
       "      <td>0</td>\n",
       "      <td>...</td>\n",
       "      <td>0</td>\n",
       "      <td>0</td>\n",
       "      <td>0</td>\n",
       "      <td>0</td>\n",
       "      <td>0</td>\n",
       "      <td>0</td>\n",
       "      <td>0</td>\n",
       "      <td>0</td>\n",
       "      <td>0</td>\n",
       "      <td>0</td>\n",
       "    </tr>\n",
       "    <tr>\n",
       "      <th>2</th>\n",
       "      <td>0</td>\n",
       "      <td>0</td>\n",
       "      <td>0</td>\n",
       "      <td>0</td>\n",
       "      <td>0</td>\n",
       "      <td>0</td>\n",
       "      <td>0</td>\n",
       "      <td>0</td>\n",
       "      <td>0</td>\n",
       "      <td>0</td>\n",
       "      <td>...</td>\n",
       "      <td>0</td>\n",
       "      <td>0</td>\n",
       "      <td>0</td>\n",
       "      <td>0</td>\n",
       "      <td>0</td>\n",
       "      <td>0</td>\n",
       "      <td>0</td>\n",
       "      <td>0</td>\n",
       "      <td>0</td>\n",
       "      <td>0</td>\n",
       "    </tr>\n",
       "    <tr>\n",
       "      <th>3</th>\n",
       "      <td>0</td>\n",
       "      <td>0</td>\n",
       "      <td>0</td>\n",
       "      <td>0</td>\n",
       "      <td>0</td>\n",
       "      <td>0</td>\n",
       "      <td>0</td>\n",
       "      <td>0</td>\n",
       "      <td>0</td>\n",
       "      <td>0</td>\n",
       "      <td>...</td>\n",
       "      <td>0</td>\n",
       "      <td>0</td>\n",
       "      <td>0</td>\n",
       "      <td>0</td>\n",
       "      <td>0</td>\n",
       "      <td>0</td>\n",
       "      <td>0</td>\n",
       "      <td>0</td>\n",
       "      <td>0</td>\n",
       "      <td>0</td>\n",
       "    </tr>\n",
       "    <tr>\n",
       "      <th>4</th>\n",
       "      <td>0</td>\n",
       "      <td>0</td>\n",
       "      <td>0</td>\n",
       "      <td>0</td>\n",
       "      <td>0</td>\n",
       "      <td>0</td>\n",
       "      <td>0</td>\n",
       "      <td>0</td>\n",
       "      <td>0</td>\n",
       "      <td>0</td>\n",
       "      <td>...</td>\n",
       "      <td>0</td>\n",
       "      <td>0</td>\n",
       "      <td>0</td>\n",
       "      <td>0</td>\n",
       "      <td>0</td>\n",
       "      <td>0</td>\n",
       "      <td>0</td>\n",
       "      <td>0</td>\n",
       "      <td>0</td>\n",
       "      <td>0</td>\n",
       "    </tr>\n",
       "    <tr>\n",
       "      <th>...</th>\n",
       "      <td>...</td>\n",
       "      <td>...</td>\n",
       "      <td>...</td>\n",
       "      <td>...</td>\n",
       "      <td>...</td>\n",
       "      <td>...</td>\n",
       "      <td>...</td>\n",
       "      <td>...</td>\n",
       "      <td>...</td>\n",
       "      <td>...</td>\n",
       "      <td>...</td>\n",
       "      <td>...</td>\n",
       "      <td>...</td>\n",
       "      <td>...</td>\n",
       "      <td>...</td>\n",
       "      <td>...</td>\n",
       "      <td>...</td>\n",
       "      <td>...</td>\n",
       "      <td>...</td>\n",
       "      <td>...</td>\n",
       "      <td>...</td>\n",
       "    </tr>\n",
       "    <tr>\n",
       "      <th>11176</th>\n",
       "      <td>0</td>\n",
       "      <td>0</td>\n",
       "      <td>0</td>\n",
       "      <td>0</td>\n",
       "      <td>0</td>\n",
       "      <td>0</td>\n",
       "      <td>0</td>\n",
       "      <td>0</td>\n",
       "      <td>0</td>\n",
       "      <td>0</td>\n",
       "      <td>...</td>\n",
       "      <td>0</td>\n",
       "      <td>0</td>\n",
       "      <td>0</td>\n",
       "      <td>0</td>\n",
       "      <td>0</td>\n",
       "      <td>0</td>\n",
       "      <td>0</td>\n",
       "      <td>0</td>\n",
       "      <td>0</td>\n",
       "      <td>0</td>\n",
       "    </tr>\n",
       "    <tr>\n",
       "      <th>11177</th>\n",
       "      <td>0</td>\n",
       "      <td>0</td>\n",
       "      <td>0</td>\n",
       "      <td>0</td>\n",
       "      <td>0</td>\n",
       "      <td>0</td>\n",
       "      <td>0</td>\n",
       "      <td>0</td>\n",
       "      <td>0</td>\n",
       "      <td>0</td>\n",
       "      <td>...</td>\n",
       "      <td>0</td>\n",
       "      <td>0</td>\n",
       "      <td>0</td>\n",
       "      <td>0</td>\n",
       "      <td>0</td>\n",
       "      <td>0</td>\n",
       "      <td>0</td>\n",
       "      <td>0</td>\n",
       "      <td>0</td>\n",
       "      <td>0</td>\n",
       "    </tr>\n",
       "    <tr>\n",
       "      <th>11178</th>\n",
       "      <td>0</td>\n",
       "      <td>1</td>\n",
       "      <td>0</td>\n",
       "      <td>0</td>\n",
       "      <td>0</td>\n",
       "      <td>0</td>\n",
       "      <td>0</td>\n",
       "      <td>0</td>\n",
       "      <td>0</td>\n",
       "      <td>0</td>\n",
       "      <td>...</td>\n",
       "      <td>0</td>\n",
       "      <td>0</td>\n",
       "      <td>0</td>\n",
       "      <td>0</td>\n",
       "      <td>0</td>\n",
       "      <td>0</td>\n",
       "      <td>0</td>\n",
       "      <td>0</td>\n",
       "      <td>0</td>\n",
       "      <td>0</td>\n",
       "    </tr>\n",
       "    <tr>\n",
       "      <th>11179</th>\n",
       "      <td>0</td>\n",
       "      <td>0</td>\n",
       "      <td>0</td>\n",
       "      <td>0</td>\n",
       "      <td>0</td>\n",
       "      <td>0</td>\n",
       "      <td>0</td>\n",
       "      <td>0</td>\n",
       "      <td>0</td>\n",
       "      <td>0</td>\n",
       "      <td>...</td>\n",
       "      <td>0</td>\n",
       "      <td>0</td>\n",
       "      <td>0</td>\n",
       "      <td>0</td>\n",
       "      <td>0</td>\n",
       "      <td>0</td>\n",
       "      <td>0</td>\n",
       "      <td>0</td>\n",
       "      <td>0</td>\n",
       "      <td>0</td>\n",
       "    </tr>\n",
       "    <tr>\n",
       "      <th>11180</th>\n",
       "      <td>0</td>\n",
       "      <td>0</td>\n",
       "      <td>0</td>\n",
       "      <td>0</td>\n",
       "      <td>0</td>\n",
       "      <td>0</td>\n",
       "      <td>0</td>\n",
       "      <td>0</td>\n",
       "      <td>0</td>\n",
       "      <td>0</td>\n",
       "      <td>...</td>\n",
       "      <td>0</td>\n",
       "      <td>0</td>\n",
       "      <td>0</td>\n",
       "      <td>0</td>\n",
       "      <td>0</td>\n",
       "      <td>0</td>\n",
       "      <td>0</td>\n",
       "      <td>0</td>\n",
       "      <td>0</td>\n",
       "      <td>0</td>\n",
       "    </tr>\n",
       "  </tbody>\n",
       "</table>\n",
       "<p>11181 rows × 49445 columns</p>\n",
       "</div>"
      ],
      "text/plain": [
       "       00  000  003  007  0074  0077  01  05pm  06  07  ...  ł10  ł400  ł500  \\\n",
       "0       0    0    0    0     0     0   0     0   0   0  ...    0     0     0   \n",
       "1       0    0    0    0     0     0   0     0   0   0  ...    0     0     0   \n",
       "2       0    0    0    0     0     0   0     0   0   0  ...    0     0     0   \n",
       "3       0    0    0    0     0     0   0     0   0   0  ...    0     0     0   \n",
       "4       0    0    0    0     0     0   0     0   0   0  ...    0     0     0   \n",
       "...    ..  ...  ...  ...   ...   ...  ..   ...  ..  ..  ...  ...   ...   ...   \n",
       "11176   0    0    0    0     0     0   0     0   0   0  ...    0     0     0   \n",
       "11177   0    0    0    0     0     0   0     0   0   0  ...    0     0     0   \n",
       "11178   0    1    0    0     0     0   0     0   0   0  ...    0     0     0   \n",
       "11179   0    0    0    0     0     0   0     0   0   0  ...    0     0     0   \n",
       "11180   0    0    0    0     0     0   0     0   0   0  ...    0     0     0   \n",
       "\n",
       "       ł5000  řker  ťgoes  ťknow  ťthe  źs  žš  \n",
       "0          0     0      0      0     0   0   0  \n",
       "1          0     0      0      0     0   0   0  \n",
       "2          0     0      0      0     0   0   0  \n",
       "3          0     0      0      0     0   0   0  \n",
       "4          0     0      0      0     0   0   0  \n",
       "...      ...   ...    ...    ...   ...  ..  ..  \n",
       "11176      0     0      0      0     0   0   0  \n",
       "11177      0     0      0      0     0   0   0  \n",
       "11178      0     0      0      0     0   0   0  \n",
       "11179      0     0      0      0     0   0   0  \n",
       "11180      0     0      0      0     0   0   0  \n",
       "\n",
       "[11181 rows x 49445 columns]"
      ]
     },
     "execution_count": 7,
     "metadata": {},
     "output_type": "execute_result"
    }
   ],
   "source": [
    "df = pandas.DataFrame.sparse.from_spmatrix(X_train)\n",
    "df.columns = vec.get_feature_names_out()\n",
    "df"
   ]
  },
  {
   "cell_type": "code",
   "execution_count": 8,
   "id": "61466e96",
   "metadata": {},
   "outputs": [
    {
     "data": {
      "text/plain": [
       "the           62607\n",
       "to            36413\n",
       "and           36267\n",
       "of            28203\n",
       "in            20087\n",
       "              ...  \n",
       "jordanians        1\n",
       "jordaan           1\n",
       "jor               1\n",
       "joong             1\n",
       "žš                1\n",
       "Length: 49445, dtype: int64"
      ]
     },
     "execution_count": 8,
     "metadata": {},
     "output_type": "execute_result"
    }
   ],
   "source": [
    "df.sum().sort_values(ascending=False)"
   ]
  },
  {
   "cell_type": "code",
   "execution_count": 9,
   "id": "af87fa94",
   "metadata": {},
   "outputs": [
    {
     "data": {
      "text/plain": [
       "<AxesSubplot:>"
      ]
     },
     "execution_count": 9,
     "metadata": {},
     "output_type": "execute_result"
    },
    {
     "data": {
      "image/png": "[encoded data removed]",
      "text/plain": [
       "<Figure size 1440x360 with 1 Axes>"
      ]
     },
     "metadata": {
      "needs_background": "light"
     },
     "output_type": "display_data"
    }
   ],
   "source": [
    "df.sum().sort_values(ascending=False).plot(figsize=(20, 5))"
   ]
  },
  {
   "cell_type": "code",
   "execution_count": 10,
   "id": "91572648",
   "metadata": {},
   "outputs": [],
   "source": [
    "clf = KNeighborsClassifier(n_neighbors=10)\n",
    "clf.fit(X_train, y_train)\n",
    "y_pred = clf.predict(X_test)"
   ]
  },
  {
   "cell_type": "code",
   "execution_count": 11,
   "id": "cc52fa7b",
   "metadata": {},
   "outputs": [
    {
     "data": {
      "text/plain": [
       "array([[  30,  277,    9,    2,    4,    4,    3],\n",
       "       [  51, 1756,   29,    0,    4,   17,    5],\n",
       "       [  21,  473,   37,    1,    4,   13,    2],\n",
       "       [   3,  160,    3,    1,    0,    1,    0],\n",
       "       [   7,  140,    7,    0,    5,    1,    1],\n",
       "       [  13,  353,   13,    0,    1,   14,    4],\n",
       "       [  12,  193,    4,    0,    0,    3,   46]])"
      ]
     },
     "execution_count": 11,
     "metadata": {},
     "output_type": "execute_result"
    }
   ],
   "source": [
    "confusion_matrix(y_test, y_pred)"
   ]
  },
  {
   "cell_type": "code",
   "execution_count": 12,
   "id": "7b78e26a",
   "metadata": {},
   "outputs": [
    {
     "data": {
      "text/plain": [
       "<sklearn.metrics._plot.confusion_matrix.ConfusionMatrixDisplay at 0x7fc405f7bc10>"
      ]
     },
     "execution_count": 12,
     "metadata": {},
     "output_type": "execute_result"
    },
    {
     "data": {
      "image/png": "[encoded data removed]",
      "text/plain": [
       "<Figure size 432x288 with 2 Axes>"
      ]
     },
     "metadata": {
      "needs_background": "light"
     },
     "output_type": "display_data"
    }
   ],
   "source": [
    "ConfusionMatrixDisplay.from_estimator(clf, X_test, y_test, normalize=\"true\")"
   ]
  },
  {
   "cell_type": "markdown",
   "id": "7e375640",
   "metadata": {},
   "source": [
    "druhý sloupec = kolik % z žánru (v řádku) jsme označili jako komedii. Správně přiřazené = úhlopříčka z levého horního rohu do pravého spodního rohu."
   ]
  },
  {
   "cell_type": "code",
   "execution_count": 13,
   "id": "5ea377ff",
   "metadata": {},
   "outputs": [
    {
     "data": {
      "text/plain": [
       "('accuracy: 0.51', 'f1 score: 0.39')"
      ]
     },
     "execution_count": 13,
     "metadata": {},
     "output_type": "execute_result"
    }
   ],
   "source": [
    "f\"accuracy: {round(accuracy_score(y_test, y_pred), 2)}\", f\"f1 score: {round(f1_score(y_test, y_pred, average='weighted'), 2)}\""
   ]
  },
  {
   "cell_type": "markdown",
   "id": "35f56f8a",
   "metadata": {},
   "source": [
    "accuracy je v případě disproporčních dat zavádějící"
   ]
  },
  {
   "cell_type": "markdown",
   "id": "fb925830",
   "metadata": {},
   "source": [
    "Jak můžeme úspěšnost modelu zlepšit? V podstatě jsou dvě úrovně: Úroveň dat, a úroveň klasifikačního algoritmu. Pojďme začít u dat, protože když nebudeme mít čistá data, žádný algoritmus nás nezachrání (toto se dá také shrnout pořekadlem \"garbage in, garbage out\").\n",
    "\n",
    "Všimněme si, že nejčastější slova jsou taková, která se nacházejí skoro ve všech popiskách. Těmto častým slovům, která nenesou žádný význam, se říka stop words. Každý jazyk má svůj blacklist těchto slov, která se většinou z dat úplně vyfiltrují. CountVectorizer má parametr stop_words, který můžeme nastavit na hodnotu \"english\"."
   ]
  },
  {
   "cell_type": "markdown",
   "id": "e5e821f9",
   "metadata": {},
   "source": [
    "Trochu si zjednodušíme práci, a spojíme krok přípravy dat a klasifikátoru do jednoho:"
   ]
  },
  {
   "cell_type": "code",
   "execution_count": 15,
   "id": "20c45b49",
   "metadata": {},
   "outputs": [],
   "source": [
    "X_train, X_test, y_train, y_test = train_test_split(X, y, stratify=y, random_state=0)"
   ]
  },
  {
   "cell_type": "code",
   "execution_count": 17,
   "id": "d24d78e3",
   "metadata": {},
   "outputs": [
    {
     "data": {
      "text/plain": [
       "('accuracy: 0.51', 'f1 score: 0.36')"
      ]
     },
     "execution_count": 17,
     "metadata": {},
     "output_type": "execute_result"
    }
   ],
   "source": [
    "pipeline = Pipeline(\n",
    "    [\n",
    "        (\"vec\", CountVectorizer(stop_words=\"english\")),\n",
    "        (\"clf\", KNeighborsClassifier(n_neighbors=10)),\n",
    "    ]\n",
    ")\n",
    "pipeline.fit(X_train, y_train)\n",
    "y_pred = pipeline.predict(X_test)\n",
    "\n",
    "f\"accuracy: {round(accuracy_score(y_test, y_pred), 2)}\", f\"f1 score: {round(f1_score(y_test, y_pred, average='weighted'), 2)}\""
   ]
  },
  {
   "cell_type": "markdown",
   "id": "9530cc10",
   "metadata": {},
   "source": [
    "Přidání stop_words=\"english\" nám spíše uškodilo - accuracy stejné, f1 score horší"
   ]
  },
  {
   "cell_type": "markdown",
   "id": "ca6c2c6a",
   "metadata": {},
   "source": [
    "Dále se zamysleme nad tím, co znamenají hodnoty našich vstupních proměnných. Možná by bylo lepší tyto hodnoty nějak normalizovat ( co kdybychom například měli veliké rozdíly mezi délkou vstupních dokumentů?). Populární metoda pro normalizaci četností slov je TF-IDF. Tato normalizace zohledňuje jak četnost slova v dokumentu, tak i to, jak často se objevuje vůbec v celých vstupních datech. Takže slovo, které by se velmi často objevovalo jen v několika dokumentech, by mělo větší váhu, než jiné slovo, které se objevuje v mnoha dokumentech, s malým zastoupením."
   ]
  },
  {
   "cell_type": "code",
   "execution_count": 18,
   "id": "02f980ac",
   "metadata": {},
   "outputs": [
    {
     "data": {
      "text/plain": [
       "('accuracy: 0.62', 'f1 score: 0.57')"
      ]
     },
     "execution_count": 18,
     "metadata": {},
     "output_type": "execute_result"
    }
   ],
   "source": [
    "pipeline = Pipeline(\n",
    "    [\n",
    "        (\"vec\", TfidfVectorizer(stop_words=\"english\")),\n",
    "        (\"clf\", KNeighborsClassifier(n_neighbors=10)),\n",
    "    ]\n",
    ")\n",
    "pipeline.fit(X_train, y_train)\n",
    "y_pred = pipeline.predict(X_test)\n",
    "\n",
    "f\"accuracy: {round(accuracy_score(y_test, y_pred), 2)}\", f\"f1 score: {round(f1_score(y_test, y_pred, average='weighted'), 2)}\""
   ]
  },
  {
   "cell_type": "code",
   "execution_count": 19,
   "id": "69485a7f",
   "metadata": {},
   "outputs": [
    {
     "data": {
      "text/plain": [
       "array([[ 115,  154,   20,    4,    8,   20,    8],\n",
       "       [  39, 1660,   82,    6,    7,   24,   44],\n",
       "       [  10,  228,  280,    1,    2,   21,    9],\n",
       "       [  10,  135,    4,   13,    0,    2,    4],\n",
       "       [  17,   74,   19,    1,   42,    5,    3],\n",
       "       [  35,  250,   66,    4,    2,   33,    8],\n",
       "       [   7,   78,    5,    0,    0,    2,  166]])"
      ]
     },
     "execution_count": 19,
     "metadata": {},
     "output_type": "execute_result"
    }
   ],
   "source": [
    "confusion_matrix(y_test, y_pred)"
   ]
  },
  {
   "cell_type": "code",
   "execution_count": 21,
   "id": "cbe85d2f",
   "metadata": {},
   "outputs": [
    {
     "data": {
      "text/plain": [
       "<sklearn.metrics._plot.confusion_matrix.ConfusionMatrixDisplay at 0x7fc4071bbf70>"
      ]
     },
     "execution_count": 21,
     "metadata": {},
     "output_type": "execute_result"
    },
    {
     "data": {
      "image/png": "[encoded data removed]",
      "text/plain": [
       "<Figure size 432x288 with 2 Axes>"
      ]
     },
     "metadata": {
      "needs_background": "light"
     },
     "output_type": "display_data"
    }
   ],
   "source": [
    "ConfusionMatrixDisplay.from_estimator(pipeline, X_test, y_test, normalize=\"true\")"
   ]
  },
  {
   "cell_type": "markdown",
   "id": "1dab7014",
   "metadata": {},
   "source": [
    "Dále se zamysleme nad tím, kolik informace zachycujeme jednotlivými slovy. Kontext je velice důležitý. Například slovní spojení \"science fiction\" má jiný význam, zohledníme-li obě slova, oproti jednotlivým \"science\" a \"fiction\". Můžeme zkusit tedy do našich vstupních proměnných kromě jednotlivých slov přidat i dvojice slov, neboli \"bi-gramy\". Nastavíme parametr ngram_range na (1, 2), čímž říkáme, že nás obecně zajímají -tice sousedních slov od jedné do dvou (jednotlivá slova a dvojice)."
   ]
  },
  {
   "cell_type": "code",
   "execution_count": 22,
   "id": "136ffb3d",
   "metadata": {},
   "outputs": [
    {
     "data": {
      "text/plain": [
       "('accuracy: 0.63', 'f1 score: 0.58')"
      ]
     },
     "execution_count": 22,
     "metadata": {},
     "output_type": "execute_result"
    }
   ],
   "source": [
    "pipeline = Pipeline(\n",
    "    [\n",
    "        (\"vec\", TfidfVectorizer(stop_words=\"english\", ngram_range=(1,2))),\n",
    "        (\"clf\", KNeighborsClassifier(n_neighbors=10)),\n",
    "    ]\n",
    ")\n",
    "pipeline.fit(X_train, y_train)\n",
    "y_pred = pipeline.predict(X_test)\n",
    "\n",
    "f\"accuracy: {round(accuracy_score(y_test, y_pred), 2)}\", f\"f1 score: {round(f1_score(y_test, y_pred, average='weighted'), 2)}\""
   ]
  },
  {
   "cell_type": "code",
   "execution_count": 23,
   "id": "85a1539e",
   "metadata": {},
   "outputs": [
    {
     "data": {
      "text/plain": [
       "array([[ 122,  142,   21,    3,   12,   22,    7],\n",
       "       [  43, 1680,   52,    6,    8,   22,   51],\n",
       "       [  13,  230,  278,    1,    1,   16,   12],\n",
       "       [  13,  133,    4,   11,    0,    3,    4],\n",
       "       [  16,   74,   20,    0,   42,    6,    3],\n",
       "       [  35,  248,   63,    6,    4,   36,    6],\n",
       "       [   4,   58,    5,    0,    1,    2,  188]])"
      ]
     },
     "execution_count": 23,
     "metadata": {},
     "output_type": "execute_result"
    }
   ],
   "source": [
    "confusion_matrix(y_test, y_pred)"
   ]
  },
  {
   "cell_type": "code",
   "execution_count": 24,
   "id": "d96863cf",
   "metadata": {},
   "outputs": [
    {
     "data": {
      "text/plain": [
       "<sklearn.metrics._plot.confusion_matrix.ConfusionMatrixDisplay at 0x7fc40728ce20>"
      ]
     },
     "execution_count": 24,
     "metadata": {},
     "output_type": "execute_result"
    },
    {
     "data": {
      "image/png": "[encoded data removed]",
      "text/plain": [
       "<Figure size 432x288 with 2 Axes>"
      ]
     },
     "metadata": {
      "needs_background": "light"
     },
     "output_type": "display_data"
    }
   ],
   "source": [
    "ConfusionMatrixDisplay.from_estimator(pipeline, X_test, y_test, normalize=\"true\")"
   ]
  },
  {
   "cell_type": "markdown",
   "id": "7a553f86",
   "metadata": {},
   "source": [
    "Od dat se pak můžeme přesunout k výberu jiného algoritmu, vyzkoušejme některý z těch, které už jsme zahlédli, třeba LinearSVC."
   ]
  },
  {
   "cell_type": "code",
   "execution_count": 28,
   "id": "ae291fec",
   "metadata": {},
   "outputs": [
    {
     "data": {
      "text/plain": [
       "('accuracy: 0.76', 'f1 score: 0.74')"
      ]
     },
     "execution_count": 28,
     "metadata": {},
     "output_type": "execute_result"
    }
   ],
   "source": [
    "pipeline = Pipeline(\n",
    "    [\n",
    "        (\"vec\", TfidfVectorizer(stop_words=\"english\", ngram_range=(1,2))),\n",
    "        (\"clf\", LinearSVC(random_state=0)),\n",
    "    ]\n",
    ")\n",
    "pipeline.fit(X_train, y_train)\n",
    "y_pred = pipeline.predict(X_test)\n",
    "\n",
    "f\"accuracy: {round(accuracy_score(y_test, y_pred), 2)}\", f\"f1 score: {round(f1_score(y_test, y_pred, average='weighted'), 2)}\""
   ]
  },
  {
   "cell_type": "code",
   "execution_count": 29,
   "id": "0e2c8051",
   "metadata": {},
   "outputs": [
    {
     "data": {
      "text/plain": [
       "array([[ 170,   83,   23,    4,   18,   28,    3],\n",
       "       [  28, 1744,   42,    8,    6,   25,    9],\n",
       "       [   7,   64,  452,    0,    2,   25,    1],\n",
       "       [   4,  118,    3,   33,    1,    9,    0],\n",
       "       [   7,   38,   28,    0,   79,    7,    2],\n",
       "       [  33,  120,   89,    5,    6,  143,    2],\n",
       "       [   4,   19,    3,    0,    1,    2,  229]])"
      ]
     },
     "execution_count": 29,
     "metadata": {},
     "output_type": "execute_result"
    }
   ],
   "source": [
    "confusion_matrix(y_test, y_pred)"
   ]
  },
  {
   "cell_type": "code",
   "execution_count": 30,
   "id": "9193b7dd",
   "metadata": {},
   "outputs": [
    {
     "data": {
      "text/plain": [
       "<sklearn.metrics._plot.confusion_matrix.ConfusionMatrixDisplay at 0x7fc419eaa850>"
      ]
     },
     "execution_count": 30,
     "metadata": {},
     "output_type": "execute_result"
    },
    {
     "data": {
      "image/png": "[encoded data removed]",
      "text/plain": [
       "<Figure size 432x288 with 2 Axes>"
      ]
     },
     "metadata": {
      "needs_background": "light"
     },
     "output_type": "display_data"
    }
   ],
   "source": [
    "ConfusionMatrixDisplay.from_estimator(pipeline, X_test, y_test, normalize=\"true\")"
   ]
  },
  {
   "cell_type": "markdown",
   "id": "ab594c90",
   "metadata": {},
   "source": [
    "Na závěr by nás mohlo zajímat, podle čeho se úspěšný algoritmus LinearSVC rozhodoval. Můžeme se podívat pro každou třídu na slova nebo dvojice slov, která byla pozitivně nebo negativně důležitá pro rozhodování."
   ]
  },
  {
   "cell_type": "code",
   "execution_count": 32,
   "id": "1ef6262b",
   "metadata": {},
   "outputs": [
    {
     "data": {
      "text/plain": [
       "array(['00', '00 31', '00 bonus', ..., 'źs sit', 'žš', 'žš brand'],\n",
       "      dtype=object)"
      ]
     },
     "execution_count": 32,
     "metadata": {},
     "output_type": "execute_result"
    }
   ],
   "source": [
    "feature_names = pipeline[\"vec\"].get_feature_names_out()\n",
    "feature_names"
   ]
  },
  {
   "cell_type": "code",
   "execution_count": 33,
   "id": "8d33a01c",
   "metadata": {},
   "outputs": [
    {
     "data": {
      "text/plain": [
       "[(0, 'action'),\n",
       " (1, 'comedy'),\n",
       " (2, 'horror'),\n",
       " (3, 'romance'),\n",
       " (4, 'sci-fi'),\n",
       " (5, 'thriller'),\n",
       " (6, 'western')]"
      ]
     },
     "execution_count": 33,
     "metadata": {},
     "output_type": "execute_result"
    }
   ],
   "source": [
    "list(enumerate(clf.classes_))"
   ]
  },
  {
   "cell_type": "markdown",
   "id": "10feb3c8",
   "metadata": {},
   "source": [
    "Jaké důležitosti klasifikátor přikládá jednotlivým třídám a jednotlivým vstupním proměnným?\n",
    "\n",
    "0 - třída \"action\", :20 = prvních dvacet.\n",
    "První řádek = negativní koeficient (20 s nejvyšším negativním koeficientem)\n",
    "Druhý řádek = pozitivní koeficient (20 s nejvyšším pozitivním koeficientem)"
   ]
  },
  {
   "cell_type": "code",
   "execution_count": 38,
   "id": "30db8af2",
   "metadata": {},
   "outputs": [],
   "source": [
    "neg_feats = sorted(zip(pipeline[\"clf\"].coef_[0, :], feature_names))[:20]\n",
    "pos_feats = sorted(zip(pipeline[\"clf\"].coef_[0, :], feature_names), reverse=True)[:20]"
   ]
  },
  {
   "cell_type": "code",
   "execution_count": 39,
   "id": "24aaffd0",
   "metadata": {},
   "outputs": [
    {
     "data": {
      "text/plain": [
       "[(-1.5834069969930455, 'comedy'),\n",
       " (-1.0681386907094599, 'house'),\n",
       " (-0.8805396868556935, 'strange'),\n",
       " (-0.8335801914235271, 'ranch'),\n",
       " (-0.8106629410945367, 'woman'),\n",
       " (-0.7683607994509648, 'space'),\n",
       " (-0.7448536369901319, 'husband'),\n",
       " (-0.6986991635272891, 'hilarious'),\n",
       " (-0.6942683315343288, 'horror'),\n",
       " (-0.6883792115730916, 'vampire'),\n",
       " (-0.6764905057704067, 'night'),\n",
       " (-0.6687762566340791, 'human'),\n",
       " (-0.6635309717791746, 'married'),\n",
       " (-0.620866485802723, 'love'),\n",
       " (-0.6156938579396946, 'arrives'),\n",
       " (-0.5965508094868024, 'year'),\n",
       " (-0.588245424339699, 'friends'),\n",
       " (-0.5795069561628521, 'new'),\n",
       " (-0.5720687534219117, 'tv'),\n",
       " (-0.5713638412215034, 'situation')]"
      ]
     },
     "execution_count": 39,
     "metadata": {},
     "output_type": "execute_result"
    }
   ],
   "source": [
    "neg_feats"
   ]
  },
  {
   "cell_type": "code",
   "execution_count": 40,
   "id": "5695faf8",
   "metadata": {},
   "outputs": [
    {
     "data": {
      "text/plain": [
       "[(2.445150383601161, 'action'),\n",
       " (2.162864472571194, 'martial'),\n",
       " (1.976577767075263, 'dragon'),\n",
       " (1.7937975472064185, 'fight'),\n",
       " (1.7010448600673744, 'fighter'),\n",
       " (1.6889553024086188, 'vs'),\n",
       " (1.6863211922683723, 'assassin'),\n",
       " (1.6728281891165429, 'martial arts'),\n",
       " (1.526214909284736, 'arts'),\n",
       " (1.490057943402774, 'killed'),\n",
       " (1.4757280149239547, 'police'),\n",
       " (1.4737232038790007, 'ninja'),\n",
       " (1.463527772543244, 'cartel'),\n",
       " (1.4278923094692106, 'singh'),\n",
       " (1.3952585988129997, 'racing'),\n",
       " (1.3856689048312336, 'crime'),\n",
       " (1.3813722906392223, 'gangsters'),\n",
       " (1.3743732176084777, 'vietnam'),\n",
       " (1.3534313416162165, 'gangs'),\n",
       " (1.347928792882327, 'wwe')]"
      ]
     },
     "execution_count": 40,
     "metadata": {},
     "output_type": "execute_result"
    }
   ],
   "source": [
    "pos_feats"
   ]
  },
  {
   "cell_type": "code",
   "execution_count": 41,
   "id": "47fd4e1e",
   "metadata": {},
   "outputs": [
    {
     "data": {
      "text/plain": [
       "<AxesSubplot:xlabel='feature'>"
      ]
     },
     "execution_count": 41,
     "metadata": {},
     "output_type": "execute_result"
    },
    {
     "data": {
      "image/png": "[encoded data removed]",
      "text/plain": [
       "<Figure size 1080x360 with 1 Axes>"
      ]
     },
     "metadata": {
      "needs_background": "light"
     },
     "output_type": "display_data"
    }
   ],
   "source": [
    "df = pandas.DataFrame(neg_feats + pos_feats, columns=[\"importance\", \"feature\"])\n",
    "df = df.set_index(\"feature\").sort_values(\"importance\")\n",
    "df.plot(kind=\"bar\", figsize=(15, 5))"
   ]
  }
 ],
 "metadata": {
  "kernelspec": {
   "display_name": "Python 3 (ipykernel)",
   "language": "python",
   "name": "python3"
  },
  "language_info": {
   "codemirror_mode": {
    "name": "ipython",
    "version": 3
   },
   "file_extension": ".py",
   "mimetype": "text/x-python",
   "name": "python",
   "nbconvert_exporter": "python",
   "pygments_lexer": "ipython3",
   "version": "3.9.6"
  }
 },
 "nbformat": 4,
 "nbformat_minor": 5
}
