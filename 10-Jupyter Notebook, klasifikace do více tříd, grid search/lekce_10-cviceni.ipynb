{
 "cells": [
  {
   "cell_type": "markdown",
   "id": "799a9604",
   "metadata": {},
   "source": [
    "Cvičení můžeš zpracovat buď pomocí Jupyter Notebooku, nebo jako klasický program. Pracuj s datasetem soybean-2-rot.csv."
   ]
  },
  {
   "cell_type": "code",
   "execution_count": 9,
   "id": "fe805c1a",
   "metadata": {},
   "outputs": [],
   "source": [
    "import pandas\n",
    "import requests\n",
    "import matplotlib.pyplot as plt\n",
    "\n",
    "from sklearn.metrics import (\n",
    "    accuracy_score,\n",
    "    confusion_matrix,\n",
    "    ConfusionMatrixDisplay,\n",
    "    f1_score,\n",
    "    precision_score,\n",
    "    recall_score,\n",
    ")\n",
    "from sklearn.preprocessing import OneHotEncoder, LabelEncoder\n",
    "from sklearn.neighbors import KNeighborsClassifier\n",
    "from sklearn.model_selection import train_test_split, GridSearchCV\n",
    "from sklearn.svm import LinearSVC\n",
    "from sklearn.datasets import load_iris\n",
    "from sklearn import tree"
   ]
  },
  {
   "cell_type": "markdown",
   "id": "e45a2e05",
   "metadata": {},
   "source": [
    "- Načti si data a rozděl si je na vstupní proměnné a výstupní proměnnou (sloupec \"class\")"
   ]
  },
  {
   "cell_type": "code",
   "execution_count": 10,
   "id": "8d3db8a0",
   "metadata": {},
   "outputs": [],
   "source": [
    "r = requests.get(\n",
    "    \"https://raw.githubusercontent.com/lutydlitatova/czechitas-datasets/main/datasets/soybean-2-rot.csv\"\n",
    ")\n",
    "open(\"soybean-2-rot.csv\", \"wb\").write(r.content)\n",
    "\n",
    "soybean_2_rot_df = pandas.read_csv(\"soybean-2-rot.csv\")\n",
    "\n",
    "X = soybean_2_rot_df.drop(columns=[\"class\"])\n",
    "y = soybean_2_rot_df[\"class\"]"
   ]
  },
  {
   "cell_type": "markdown",
   "id": "0a25729d",
   "metadata": {},
   "source": [
    "- Vstupní proměnné transformuj na celočíselné hodnoty pomocí OneHotEncoder"
   ]
  },
  {
   "cell_type": "code",
   "execution_count": 11,
   "id": "9e550d1d",
   "metadata": {},
   "outputs": [],
   "source": [
    "encoder = OneHotEncoder()\n",
    "X = encoder.fit_transform(X)"
   ]
  },
  {
   "cell_type": "code",
   "execution_count": 1,
   "id": "89f66f13",
   "metadata": {},
   "outputs": [
    {
     "ename": "NameError",
     "evalue": "name 'pandas' is not defined",
     "output_type": "error",
     "traceback": [
      "\u001b[1;31m---------------------------------------------------------------------------\u001b[0m",
      "\u001b[1;31mNameError\u001b[0m                                 Traceback (most recent call last)",
      "\u001b[1;32mC:\\Users\\HEDVDE~1\\AppData\\Local\\Temp/ipykernel_2132/2353703120.py\u001b[0m in \u001b[0;36m<module>\u001b[1;34m\u001b[0m\n\u001b[1;32m----> 1\u001b[1;33m \u001b[0mpandas\u001b[0m\u001b[1;33m.\u001b[0m\u001b[0mDataFrame\u001b[0m\u001b[1;33m(\u001b[0m\u001b[0mX\u001b[0m\u001b[1;33m.\u001b[0m\u001b[0mtoarray\u001b[0m\u001b[1;33m(\u001b[0m\u001b[1;33m)\u001b[0m\u001b[1;33m,\u001b[0m \u001b[0mcolumns\u001b[0m\u001b[1;33m=\u001b[0m\u001b[0mencoder\u001b[0m\u001b[1;33m.\u001b[0m\u001b[0mget_feature_names_out\u001b[0m\u001b[1;33m(\u001b[0m\u001b[1;33m)\u001b[0m\u001b[1;33m)\u001b[0m\u001b[1;33m.\u001b[0m\u001b[0mhead\u001b[0m\u001b[1;33m(\u001b[0m\u001b[1;33m)\u001b[0m\u001b[1;33m\u001b[0m\u001b[1;33m\u001b[0m\u001b[0m\n\u001b[0m",
      "\u001b[1;31mNameError\u001b[0m: name 'pandas' is not defined"
     ]
    }
   ],
   "source": [
    "pandas.DataFrame(X.toarray(), columns=encoder.get_feature_names_out()).head()"
   ]
  },
  {
   "cell_type": "markdown",
   "id": "c8f09f42",
   "metadata": {},
   "source": [
    "- Data rozděl na trénovací a testovací ve vhodném poměru. Třídy mají tentokrát nerovnoměrné zastoupení, tak určitě nastav parametr stratify."
   ]
  },
  {
   "cell_type": "code",
   "execution_count": null,
   "id": "1efd7dbe",
   "metadata": {},
   "outputs": [],
   "source": []
  },
  {
   "cell_type": "code",
   "execution_count": 44,
   "id": "83f510f3",
   "metadata": {},
   "outputs": [],
   "source": [
    "X_train, X_test, y_train, y_test = train_test_split(\n",
    "    X, y, test_size=0.2, random_state=42, stratify=y\n",
    ")"
   ]
  },
  {
   "cell_type": "markdown",
   "id": "c84c5100",
   "metadata": {},
   "source": [
    "- Jako algoritmus vyzkoušej DecisionTreeClassifier, který naimportuješ příkazem from sklearn.tree import DecisionTreeClassifier. Tento algoritmus má hned několik parametrů, které je možné nastavit (zde odkaz na dokumentaci). Pro začátek se podíváme na parametry \"max_depth\" a \"min_samples_leaf\". Zvol pro každý parametr 3-5 celočíselných hodnot."
   ]
  },
  {
   "cell_type": "code",
   "execution_count": 42,
   "id": "ee00e346",
   "metadata": {},
   "outputs": [],
   "source": [
    "from sklearn.tree import DecisionTreeClassifier"
   ]
  },
  {
   "cell_type": "code",
   "execution_count": 16,
   "id": "3aa2b52d",
   "metadata": {},
   "outputs": [
    {
     "data": {
      "text/plain": [
       "array([[ 5,  4,  0],\n",
       "       [ 0,  4,  0],\n",
       "       [ 0,  0, 18]], dtype=int64)"
      ]
     },
     "execution_count": 16,
     "metadata": {},
     "output_type": "execute_result"
    }
   ],
   "source": [
    "clf1 = DecisionTreeClassifier(max_depth=5, min_samples_leaf=10)\n",
    "clf1.fit(X_train, y_train)\n",
    "y_pred = clf1.predict(X_test)\n",
    "confusion_matrix(y_test, y_pred)"
   ]
  },
  {
   "cell_type": "code",
   "execution_count": 18,
   "id": "6deb1bf5",
   "metadata": {},
   "outputs": [
    {
     "data": {
      "text/plain": [
       "array([[ 9,  0,  0],\n",
       "       [ 0,  4,  0],\n",
       "       [ 1,  0, 17]], dtype=int64)"
      ]
     },
     "execution_count": 18,
     "metadata": {},
     "output_type": "execute_result"
    }
   ],
   "source": [
    "clf2 = DecisionTreeClassifier(max_depth=3, min_samples_leaf=5)\n",
    "clf2.fit(X_train, y_train)\n",
    "y_pred = clf2.predict(X_test)\n",
    "confusion_matrix(y_test, y_pred)"
   ]
  },
  {
   "cell_type": "code",
   "execution_count": 19,
   "id": "c5880c74",
   "metadata": {},
   "outputs": [
    {
     "data": {
      "text/plain": [
       "array([[ 7,  0,  2],\n",
       "       [ 4,  0,  0],\n",
       "       [ 1,  0, 17]], dtype=int64)"
      ]
     },
     "execution_count": 19,
     "metadata": {},
     "output_type": "execute_result"
    }
   ],
   "source": [
    "clf3 = DecisionTreeClassifier(max_depth=30, min_samples_leaf=50)\n",
    "clf3.fit(X_train, y_train)\n",
    "y_pred = clf3.predict(X_test)\n",
    "confusion_matrix(y_test, y_pred)"
   ]
  },
  {
   "cell_type": "markdown",
   "id": "f65def90",
   "metadata": {},
   "source": [
    "- Proveď vyhledání nejlepších parametrů pomocí GridSearchCV, a tyto parametry pak použij na závěrečný test."
   ]
  },
  {
   "cell_type": "code",
   "execution_count": 54,
   "id": "dae84e34",
   "metadata": {},
   "outputs": [
    {
     "name": "stdout",
     "output_type": "stream",
     "text": [
      "{'max_depth': 6, 'min_samples_leaf': 1}\n",
      "0.9\n"
     ]
    }
   ],
   "source": [
    "model_1 = DecisionTreeClassifier(random_state=42)\n",
    "tree_para = {'max_depth':[1,2,3,4,5,6,7,8,9,10,11,12,13,14,15,20,30,40,50,70,90,120,150], 'min_samples_leaf':[1,2,3,4,5,6,7,8,9,10,11,12,15,20,30,40,50,70,90,120,150]}\n",
    "\n",
    "clf_1 = GridSearchCV(model_1, tree_para, scoring=\"f1_weighted\")\n",
    "clf_1.fit(X_train, y_train)\n",
    "\n",
    "print(clf_1.best_params_)\n",
    "print(round(clf_1.best_score_, 2))"
   ]
  },
  {
   "cell_type": "markdown",
   "id": "90dad596",
   "metadata": {},
   "source": [
    "- Jaká je hodnota f1_score pro predikci na testovacích datech?"
   ]
  },
  {
   "cell_type": "code",
   "execution_count": 21,
   "id": "d43c4397",
   "metadata": {
    "scrolled": true
   },
   "outputs": [
    {
     "data": {
      "text/plain": [
       "0.73"
      ]
     },
     "execution_count": 21,
     "metadata": {},
     "output_type": "execute_result"
    }
   ],
   "source": [
    "round(f1_score(y_test, y_pred, average=\"weighted\"), 2)"
   ]
  },
  {
   "cell_type": "markdown",
   "id": "6378f870",
   "metadata": {},
   "source": [
    "Dobrovolný doplněk: Rozhodovací strom je možné si nechat vykreslit. Podívej se na metodu plot_tree a zkus nechat vykreslit ten tvůj."
   ]
  },
  {
   "cell_type": "code",
   "execution_count": 45,
   "id": "484d7813",
   "metadata": {},
   "outputs": [
    {
     "data": {
      "text/plain": [
       "[Text(167.40000000000003, 190.26, 'X[1] <= 0.5\\ngini = 0.564\\nsamples = 121\\nvalue = [35, 16, 70]'),\n",
       " Text(66.96000000000001, 135.9, 'X[6] <= 0.5\\ngini = 0.235\\nsamples = 81\\nvalue = [11, 0, 70]'),\n",
       " Text(33.480000000000004, 81.53999999999999, 'gini = 0.0\\nsamples = 58\\nvalue = [0, 0, 58]'),\n",
       " Text(100.44000000000001, 81.53999999999999, 'X[12] <= 0.5\\ngini = 0.499\\nsamples = 23\\nvalue = [11, 0, 12]'),\n",
       " Text(66.96000000000001, 27.180000000000007, 'gini = 0.463\\nsamples = 11\\nvalue = [4, 0, 7]'),\n",
       " Text(133.92000000000002, 27.180000000000007, 'gini = 0.486\\nsamples = 12\\nvalue = [7, 0, 5]'),\n",
       " Text(267.84000000000003, 135.9, 'X[23] <= 0.5\\ngini = 0.48\\nsamples = 40\\nvalue = [24, 16, 0]'),\n",
       " Text(234.36, 81.53999999999999, 'X[15] <= 0.5\\ngini = 0.363\\nsamples = 21\\nvalue = [5, 16, 0]'),\n",
       " Text(200.88000000000002, 27.180000000000007, 'gini = 0.42\\nsamples = 10\\nvalue = [3, 7, 0]'),\n",
       " Text(267.84000000000003, 27.180000000000007, 'gini = 0.298\\nsamples = 11\\nvalue = [2, 9, 0]'),\n",
       " Text(301.32000000000005, 81.53999999999999, 'gini = 0.0\\nsamples = 19\\nvalue = [19, 0, 0]')]"
      ]
     },
     "execution_count": 45,
     "metadata": {},
     "output_type": "execute_result"
    },
    {
     "data": {
      "image/png": "[encoded data removed]",
      "text/plain": [
       "<Figure size 432x288 with 1 Axes>"
      ]
     },
     "metadata": {
      "needs_background": "light"
     },
     "output_type": "display_data"
    }
   ],
   "source": [
    "tree.plot_tree(clf1)"
   ]
  },
  {
   "cell_type": "code",
   "execution_count": 23,
   "id": "0787904e",
   "metadata": {},
   "outputs": [
    {
     "data": {
      "text/plain": [
       "[Text(167.40000000000003, 190.26, 'X[0] <= 0.5\\ngini = 0.564\\nsamples = 121\\nvalue = [35, 16, 70]'),\n",
       " Text(66.96000000000001, 135.9, 'X[22] <= 0.5\\ngini = 0.48\\nsamples = 40\\nvalue = [24, 16, 0]'),\n",
       " Text(33.480000000000004, 81.53999999999999, 'gini = 0.0\\nsamples = 19\\nvalue = [19, 0, 0]'),\n",
       " Text(100.44000000000001, 81.53999999999999, 'X[36] <= 0.5\\ngini = 0.363\\nsamples = 21\\nvalue = [5, 16, 0]'),\n",
       " Text(66.96000000000001, 27.180000000000007, 'gini = 0.469\\nsamples = 8\\nvalue = [5, 3, 0]'),\n",
       " Text(133.92000000000002, 27.180000000000007, 'gini = 0.0\\nsamples = 13\\nvalue = [0, 13, 0]'),\n",
       " Text(267.84000000000003, 135.9, 'X[35] <= 0.5\\ngini = 0.235\\nsamples = 81\\nvalue = [11, 0, 70]'),\n",
       " Text(234.36, 81.53999999999999, 'X[3] <= 0.5\\ngini = 0.104\\nsamples = 73\\nvalue = [4, 0, 69]'),\n",
       " Text(200.88000000000002, 27.180000000000007, 'gini = 0.0\\nsamples = 62\\nvalue = [0, 0, 62]'),\n",
       " Text(267.84000000000003, 27.180000000000007, 'gini = 0.463\\nsamples = 11\\nvalue = [4, 0, 7]'),\n",
       " Text(301.32000000000005, 81.53999999999999, 'gini = 0.219\\nsamples = 8\\nvalue = [7, 0, 1]')]"
      ]
     },
     "execution_count": 23,
     "metadata": {},
     "output_type": "execute_result"
    },
    {
     "data": {
      "image/png": "[encoded data removed]",
      "text/plain": [
       "<Figure size 432x288 with 1 Axes>"
      ]
     },
     "metadata": {
      "needs_background": "light"
     },
     "output_type": "display_data"
    }
   ],
   "source": [
    "tree.plot_tree(clf2)"
   ]
  },
  {
   "cell_type": "code",
   "execution_count": 56,
   "id": "247837d8",
   "metadata": {},
   "outputs": [
    {
     "data": {
      "text/plain": [
       "[Text(167.4, 163.07999999999998, 'X[12] <= 0.5\\ngini = 0.564\\nsamples = 121\\nvalue = [35, 16, 70]'),\n",
       " Text(83.7, 54.360000000000014, 'gini = 0.134\\nsamples = 69\\nvalue = [5, 0, 64]'),\n",
       " Text(251.10000000000002, 54.360000000000014, 'gini = 0.559\\nsamples = 52\\nvalue = [30, 16, 6]')]"
      ]
     },
     "execution_count": 56,
     "metadata": {},
     "output_type": "execute_result"
    },
    {
     "data": {
      "image/png": "[encoded data removed]",
      "text/plain": [
       "<Figure size 432x288 with 1 Axes>"
      ]
     },
     "metadata": {
      "needs_background": "light"
     },
     "output_type": "display_data"
    }
   ],
   "source": [
    "tree.plot_tree(clf3)"
   ]
  },
  {
   "cell_type": "code",
   "execution_count": 58,
   "id": "cca59192",
   "metadata": {},
   "outputs": [
    {
     "data": {
      "text/plain": [
       "array([[ 9,  0,  0],\n",
       "       [ 0,  4,  0],\n",
       "       [ 0,  0, 18]], dtype=int64)"
      ]
     },
     "execution_count": 58,
     "metadata": {},
     "output_type": "execute_result"
    }
   ],
   "source": [
    "clf4 = DecisionTreeClassifier(max_depth=6, min_samples_leaf=1)\n",
    "clf4.fit(X_train, y_train)\n",
    "y_pred = clf4.predict(X_test)\n",
    "confusion_matrix(y_test, y_pred)"
   ]
  },
  {
   "cell_type": "code",
   "execution_count": 59,
   "id": "1d208ed8",
   "metadata": {
    "scrolled": false
   },
   "outputs": [
    {
     "data": {
      "text/plain": [
       "[Text(179.35714285714286, 195.696, 'X[1] <= 0.5\\ngini = 0.564\\nsamples = 121\\nvalue = [35, 16, 70]'),\n",
       " Text(119.57142857142857, 152.208, 'X[35] <= 0.5\\ngini = 0.235\\nsamples = 81\\nvalue = [11, 0, 70]'),\n",
       " Text(71.74285714285715, 108.72, 'X[27] <= 0.5\\ngini = 0.104\\nsamples = 73\\nvalue = [4, 0, 69]'),\n",
       " Text(47.82857142857143, 65.232, 'X[24] <= 0.5\\ngini = 0.055\\nsamples = 71\\nvalue = [2, 0, 69]'),\n",
       " Text(23.914285714285715, 21.744, 'gini = 0.0\\nsamples = 2\\nvalue = [2, 0, 0]'),\n",
       " Text(71.74285714285715, 21.744, 'gini = 0.0\\nsamples = 69\\nvalue = [0, 0, 69]'),\n",
       " Text(95.65714285714286, 65.232, 'gini = 0.0\\nsamples = 2\\nvalue = [2, 0, 0]'),\n",
       " Text(167.4, 108.72, 'X[40] <= 0.5\\ngini = 0.219\\nsamples = 8\\nvalue = [7, 0, 1]'),\n",
       " Text(143.4857142857143, 65.232, 'gini = 0.0\\nsamples = 1\\nvalue = [0, 0, 1]'),\n",
       " Text(191.31428571428572, 65.232, 'gini = 0.0\\nsamples = 7\\nvalue = [7, 0, 0]'),\n",
       " Text(239.14285714285714, 152.208, 'X[22] <= 0.5\\ngini = 0.48\\nsamples = 40\\nvalue = [24, 16, 0]'),\n",
       " Text(215.22857142857143, 108.72, 'gini = 0.0\\nsamples = 19\\nvalue = [19, 0, 0]'),\n",
       " Text(263.0571428571429, 108.72, 'X[26] <= 0.5\\ngini = 0.363\\nsamples = 21\\nvalue = [5, 16, 0]'),\n",
       " Text(239.14285714285714, 65.232, 'gini = 0.0\\nsamples = 3\\nvalue = [3, 0, 0]'),\n",
       " Text(286.9714285714286, 65.232, 'X[24] <= 0.5\\ngini = 0.198\\nsamples = 18\\nvalue = [2, 16, 0]'),\n",
       " Text(263.0571428571429, 21.744, 'gini = 0.0\\nsamples = 2\\nvalue = [2, 0, 0]'),\n",
       " Text(310.8857142857143, 21.744, 'gini = 0.0\\nsamples = 16\\nvalue = [0, 16, 0]')]"
      ]
     },
     "execution_count": 59,
     "metadata": {},
     "output_type": "execute_result"
    },
    {
     "data": {
      "image/png": "[encoded data removed]",
      "text/plain": [
       "<Figure size 432x288 with 1 Axes>"
      ]
     },
     "metadata": {
      "needs_background": "light"
     },
     "output_type": "display_data"
    }
   ],
   "source": [
    "tree.plot_tree(clf4)"
   ]
  },
  {
   "cell_type": "code",
   "execution_count": null,
   "id": "b49efcef",
   "metadata": {},
   "outputs": [],
   "source": []
  }
 ],
 "metadata": {
  "kernelspec": {
   "display_name": "Python 3 (ipykernel)",
   "language": "python",
   "name": "python3"
  },
  "language_info": {
   "codemirror_mode": {
    "name": "ipython",
    "version": 3
   },
   "file_extension": ".py",
   "mimetype": "text/x-python",
   "name": "python",
   "nbconvert_exporter": "python",
   "pygments_lexer": "ipython3",
   "version": "3.9.1"
  }
 },
 "nbformat": 4,
 "nbformat_minor": 5
}
