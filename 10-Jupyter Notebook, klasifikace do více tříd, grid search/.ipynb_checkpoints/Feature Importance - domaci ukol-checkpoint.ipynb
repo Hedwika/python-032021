{
 "cells": [
  {
   "cell_type": "markdown",
   "id": "d6b98dac",
   "metadata": {},
   "source": [
    "# Feature Importance\n",
    "Pracuj se stejnými daty jako na cvičení, tj. se souborem soybean-2-rot.csv.\n",
    "Rozhodovací strom nám umožňuje nahlédnout do pravidel, podle kterých postupuje v klasifikaci. Díky tomu se často pokládá za velice průhledný nebo dobře interpretovatelný algoritmus."
   ]
  },
  {
   "cell_type": "code",
   "execution_count": 2,
   "id": "1ae12eea",
   "metadata": {},
   "outputs": [
    {
     "data": {
      "text/html": [
       "<div>\n",
       "<style scoped>\n",
       "    .dataframe tbody tr th:only-of-type {\n",
       "        vertical-align: middle;\n",
       "    }\n",
       "\n",
       "    .dataframe tbody tr th {\n",
       "        vertical-align: top;\n",
       "    }\n",
       "\n",
       "    .dataframe thead th {\n",
       "        text-align: right;\n",
       "    }\n",
       "</style>\n",
       "<table border=\"1\" class=\"dataframe\">\n",
       "  <thead>\n",
       "    <tr style=\"text-align: right;\">\n",
       "      <th></th>\n",
       "      <th>plant-stand</th>\n",
       "      <th>temp</th>\n",
       "      <th>hail</th>\n",
       "      <th>crop-hist</th>\n",
       "      <th>severity</th>\n",
       "      <th>seed-tmt</th>\n",
       "      <th>germination</th>\n",
       "      <th>plant-growth</th>\n",
       "      <th>leaves</th>\n",
       "      <th>leafspots-halo</th>\n",
       "      <th>leaf-shread</th>\n",
       "      <th>leaf-malf</th>\n",
       "      <th>leaf-mild</th>\n",
       "      <th>lodging</th>\n",
       "      <th>fruiting-bodies</th>\n",
       "      <th>external-decay</th>\n",
       "      <th>mycelium</th>\n",
       "      <th>seed</th>\n",
       "      <th>mold-growth</th>\n",
       "      <th>seed-discolor</th>\n",
       "      <th>seed-size</th>\n",
       "      <th>shriveling</th>\n",
       "      <th>roots</th>\n",
       "      <th>class</th>\n",
       "    </tr>\n",
       "  </thead>\n",
       "  <tbody>\n",
       "    <tr>\n",
       "      <th>0</th>\n",
       "      <td>normal</td>\n",
       "      <td>gt-norm</td>\n",
       "      <td>yes</td>\n",
       "      <td>same-lst-yr</td>\n",
       "      <td>pot-severe</td>\n",
       "      <td>fungicide</td>\n",
       "      <td>90-100</td>\n",
       "      <td>abnorm</td>\n",
       "      <td>abnorm</td>\n",
       "      <td>absent</td>\n",
       "      <td>absent</td>\n",
       "      <td>absent</td>\n",
       "      <td>absent</td>\n",
       "      <td>yes</td>\n",
       "      <td>absent</td>\n",
       "      <td>absent</td>\n",
       "      <td>absent</td>\n",
       "      <td>norm</td>\n",
       "      <td>absent</td>\n",
       "      <td>absent</td>\n",
       "      <td>norm</td>\n",
       "      <td>absent</td>\n",
       "      <td>norm</td>\n",
       "      <td>charcoal-rot</td>\n",
       "    </tr>\n",
       "    <tr>\n",
       "      <th>1</th>\n",
       "      <td>normal</td>\n",
       "      <td>norm</td>\n",
       "      <td>no</td>\n",
       "      <td>same-lst-yr</td>\n",
       "      <td>pot-severe</td>\n",
       "      <td>fungicide</td>\n",
       "      <td>80-89</td>\n",
       "      <td>abnorm</td>\n",
       "      <td>abnorm</td>\n",
       "      <td>absent</td>\n",
       "      <td>absent</td>\n",
       "      <td>absent</td>\n",
       "      <td>absent</td>\n",
       "      <td>no</td>\n",
       "      <td>absent</td>\n",
       "      <td>absent</td>\n",
       "      <td>absent</td>\n",
       "      <td>norm</td>\n",
       "      <td>absent</td>\n",
       "      <td>absent</td>\n",
       "      <td>norm</td>\n",
       "      <td>absent</td>\n",
       "      <td>norm</td>\n",
       "      <td>charcoal-rot</td>\n",
       "    </tr>\n",
       "    <tr>\n",
       "      <th>2</th>\n",
       "      <td>normal</td>\n",
       "      <td>norm</td>\n",
       "      <td>yes</td>\n",
       "      <td>same-lst-yr</td>\n",
       "      <td>pot-severe</td>\n",
       "      <td>none</td>\n",
       "      <td>90-100</td>\n",
       "      <td>abnorm</td>\n",
       "      <td>abnorm</td>\n",
       "      <td>absent</td>\n",
       "      <td>absent</td>\n",
       "      <td>absent</td>\n",
       "      <td>absent</td>\n",
       "      <td>yes</td>\n",
       "      <td>absent</td>\n",
       "      <td>absent</td>\n",
       "      <td>absent</td>\n",
       "      <td>norm</td>\n",
       "      <td>absent</td>\n",
       "      <td>absent</td>\n",
       "      <td>norm</td>\n",
       "      <td>absent</td>\n",
       "      <td>norm</td>\n",
       "      <td>charcoal-rot</td>\n",
       "    </tr>\n",
       "    <tr>\n",
       "      <th>3</th>\n",
       "      <td>normal</td>\n",
       "      <td>norm</td>\n",
       "      <td>no</td>\n",
       "      <td>same-lst-sev-yrs</td>\n",
       "      <td>pot-severe</td>\n",
       "      <td>fungicide</td>\n",
       "      <td>90-100</td>\n",
       "      <td>abnorm</td>\n",
       "      <td>abnorm</td>\n",
       "      <td>absent</td>\n",
       "      <td>absent</td>\n",
       "      <td>absent</td>\n",
       "      <td>absent</td>\n",
       "      <td>yes</td>\n",
       "      <td>absent</td>\n",
       "      <td>absent</td>\n",
       "      <td>absent</td>\n",
       "      <td>norm</td>\n",
       "      <td>absent</td>\n",
       "      <td>absent</td>\n",
       "      <td>norm</td>\n",
       "      <td>absent</td>\n",
       "      <td>norm</td>\n",
       "      <td>charcoal-rot</td>\n",
       "    </tr>\n",
       "    <tr>\n",
       "      <th>4</th>\n",
       "      <td>normal</td>\n",
       "      <td>gt-norm</td>\n",
       "      <td>yes</td>\n",
       "      <td>same-lst-yr</td>\n",
       "      <td>pot-severe</td>\n",
       "      <td>fungicide</td>\n",
       "      <td>80-89</td>\n",
       "      <td>abnorm</td>\n",
       "      <td>abnorm</td>\n",
       "      <td>absent</td>\n",
       "      <td>absent</td>\n",
       "      <td>absent</td>\n",
       "      <td>absent</td>\n",
       "      <td>yes</td>\n",
       "      <td>absent</td>\n",
       "      <td>absent</td>\n",
       "      <td>absent</td>\n",
       "      <td>norm</td>\n",
       "      <td>absent</td>\n",
       "      <td>absent</td>\n",
       "      <td>norm</td>\n",
       "      <td>absent</td>\n",
       "      <td>norm</td>\n",
       "      <td>charcoal-rot</td>\n",
       "    </tr>\n",
       "  </tbody>\n",
       "</table>\n",
       "</div>"
      ],
      "text/plain": [
       "  plant-stand     temp hail         crop-hist    severity   seed-tmt germination plant-growth  leaves leafspots-halo leaf-shread leaf-malf leaf-mild lodging fruiting-bodies external-decay mycelium  seed mold-growth seed-discolor seed-size shriveling roots         class\n",
       "0      normal  gt-norm  yes       same-lst-yr  pot-severe  fungicide      90-100       abnorm  abnorm         absent      absent    absent    absent     yes          absent         absent   absent  norm      absent        absent      norm     absent  norm  charcoal-rot\n",
       "1      normal     norm   no       same-lst-yr  pot-severe  fungicide       80-89       abnorm  abnorm         absent      absent    absent    absent      no          absent         absent   absent  norm      absent        absent      norm     absent  norm  charcoal-rot\n",
       "2      normal     norm  yes       same-lst-yr  pot-severe       none      90-100       abnorm  abnorm         absent      absent    absent    absent     yes          absent         absent   absent  norm      absent        absent      norm     absent  norm  charcoal-rot\n",
       "3      normal     norm   no  same-lst-sev-yrs  pot-severe  fungicide      90-100       abnorm  abnorm         absent      absent    absent    absent     yes          absent         absent   absent  norm      absent        absent      norm     absent  norm  charcoal-rot\n",
       "4      normal  gt-norm  yes       same-lst-yr  pot-severe  fungicide       80-89       abnorm  abnorm         absent      absent    absent    absent     yes          absent         absent   absent  norm      absent        absent      norm     absent  norm  charcoal-rot"
      ]
     },
     "execution_count": 2,
     "metadata": {},
     "output_type": "execute_result"
    }
   ],
   "source": [
    "import pandas as pd\n",
    "\n",
    "from sklearn.preprocessing import OneHotEncoder\n",
    "from sklearn.tree import DecisionTreeClassifier\n",
    "from sklearn.metrics import accuracy_score, f1_score\n",
    "from sklearn.model_selection import train_test_split\n",
    "import requests\n",
    "\n",
    "desired_width = 1000\n",
    "pd.set_option('display.width', desired_width)\n",
    "pd.set_option('display.max_columns',100)\n",
    "\n",
    "r = requests.get(\n",
    "    \"https://raw.githubusercontent.com/lutydlitatova/czechitas-datasets/main/datasets/soybean-2-rot.csv\"\n",
    ")\n",
    "open(\"soybean-2-rot.csv\", \"wb\").write(r.content)\n",
    "\n",
    "data = pd.read_csv(\"soybean-2-rot.csv\")\n",
    "\n",
    "data.head()"
   ]
  },
  {
   "cell_type": "code",
   "execution_count": 3,
   "id": "6166b637",
   "metadata": {},
   "outputs": [
    {
     "name": "stdout",
     "output_type": "stream",
     "text": [
      "1.0\n"
     ]
    }
   ],
   "source": [
    "X = data.drop(columns=[\"class\"])\n",
    "y = data[\"class\"]\n",
    "\n",
    "oh_encoder = OneHotEncoder()\n",
    "X = oh_encoder.fit_transform(X)\n",
    "\n",
    "X_train, X_test, y_train, y_test = train_test_split(\n",
    "    X, y, test_size=0.2, stratify=y, random_state=0\n",
    ")\n",
    "\n",
    "clf = DecisionTreeClassifier(max_depth=3, min_samples_leaf=1)\n",
    "clf.fit(X_train, y_train)\n",
    "\n",
    "y_pred = clf.predict(X_test)\n",
    "\n",
    "print(f1_score(y_test, y_pred, average=\"weighted\"))"
   ]
  },
  {
   "cell_type": "markdown",
   "id": "3d96bbb5",
   "metadata": {},
   "source": [
    "- Podívej se na atribut feature_importances_ (clf.feature_importances_), který říká, které vstupní proměnné model použil pro rozhodování. Některé budou mít nulovou hodnotu, to znamená, že vůbec potřeba nejsou. Atribut nám dá jen seznam čísel seřazený podle vstupních proměnných, ale ne jejich jména. Ty získáš například z OneHotEncoder (atribut feature_names_in_, takže například níže by se jednalo o oh_encoder.feature_names_in_)"
   ]
  },
  {
   "cell_type": "code",
   "execution_count": 4,
   "id": "67794e0e",
   "metadata": {
    "scrolled": true
   },
   "outputs": [
    {
     "data": {
      "text/plain": [
       "array([0.52350127, 0.        , 0.        , 0.        , 0.        ,\n",
       "       0.        , 0.        , 0.        , 0.        , 0.        ,\n",
       "       0.        , 0.        , 0.        , 0.        , 0.        ,\n",
       "       0.        , 0.        , 0.        , 0.        , 0.        ,\n",
       "       0.        , 0.        , 0.16218339, 0.        , 0.        ,\n",
       "       0.13498863, 0.        , 0.09011917, 0.        , 0.        ,\n",
       "       0.        , 0.        , 0.        , 0.        , 0.        ,\n",
       "       0.        , 0.08920753, 0.        , 0.        , 0.        ,\n",
       "       0.        , 0.        , 0.        , 0.        , 0.        ,\n",
       "       0.        , 0.        , 0.        , 0.        , 0.        ,\n",
       "       0.        , 0.        , 0.        , 0.        , 0.        ,\n",
       "       0.        ])"
      ]
     },
     "execution_count": 4,
     "metadata": {},
     "output_type": "execute_result"
    }
   ],
   "source": [
    "clf.feature_importances_"
   ]
  },
  {
   "cell_type": "code",
   "execution_count": 6,
   "id": "21942a8b",
   "metadata": {},
   "outputs": [
    {
     "ename": "AttributeError",
     "evalue": "'OneHotEncoder' object has no attribute 'feature_names_in_'",
     "output_type": "error",
     "traceback": [
      "\u001b[1;31m---------------------------------------------------------------------------\u001b[0m",
      "\u001b[1;31mAttributeError\u001b[0m                            Traceback (most recent call last)",
      "\u001b[1;32mC:\\Users\\HEDVDE~1\\AppData\\Local\\Temp/ipykernel_20688/72703211.py\u001b[0m in \u001b[0;36m<module>\u001b[1;34m\u001b[0m\n\u001b[1;32m----> 1\u001b[1;33m \u001b[0moh_encoder\u001b[0m\u001b[1;33m.\u001b[0m\u001b[0mfeature_names_in_\u001b[0m\u001b[1;33m\u001b[0m\u001b[1;33m\u001b[0m\u001b[0m\n\u001b[0m",
      "\u001b[1;31mAttributeError\u001b[0m: 'OneHotEncoder' object has no attribute 'feature_names_in_'"
     ]
    }
   ],
   "source": [
    "oh_encoder.feature_names_in_"
   ]
  },
  {
   "cell_type": "markdown",
   "id": "a15f55f3",
   "metadata": {},
   "source": [
    "- Která vstupní proměnná má největší \"důležitost\"?"
   ]
  },
  {
   "cell_type": "markdown",
   "id": "9148ed05",
   "metadata": {},
   "source": []
  },
  {
   "cell_type": "markdown",
   "id": "7cc9caf8",
   "metadata": {},
   "source": [
    "- Stačí nám tato proměnná pro úspěšnou klasifikaci? Jaký je rozdíl mezi hodnotou f1_score při použití všech proměnných a jen této jedné \"nejdůležitější\" proměnné?"
   ]
  },
  {
   "cell_type": "code",
   "execution_count": null,
   "id": "8da0b78f",
   "metadata": {},
   "outputs": [],
   "source": []
  },
  {
   "cell_type": "markdown",
   "id": "21cbb547",
   "metadata": {},
   "source": [
    "# Dobrovolný doplněk\n",
    "Vykresli graf, ze kterého je vidět rozložení hodnot této jedné nejdůležitější proměnné. Můžeš využít groupby nebo pivot_table v kombinaci s metodou plot, nebo například sns.countplot (kde sns je modul seaborn)."
   ]
  }
 ],
 "metadata": {
  "kernelspec": {
   "display_name": "Python 3 (ipykernel)",
   "language": "python",
   "name": "python3"
  },
  "language_info": {
   "codemirror_mode": {
    "name": "ipython",
    "version": 3
   },
   "file_extension": ".py",
   "mimetype": "text/x-python",
   "name": "python",
   "nbconvert_exporter": "python",
   "pygments_lexer": "ipython3",
   "version": "3.9.1"
  }
 },
 "nbformat": 4,
 "nbformat_minor": 5
}
