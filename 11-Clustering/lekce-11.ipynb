{
 "cells": [
  {
   "cell_type": "code",
   "execution_count": 1,
   "id": "60a97137",
   "metadata": {},
   "outputs": [],
   "source": [
    "import pandas\n",
    "import requests\n",
    "\n",
    "import numpy as np\n",
    "import matplotlib.cm as cm\n",
    "import matplotlib.pyplot as plt\n",
    "\n",
    "from sklearn.manifold import TSNE\n",
    "from sklearn.cluster import KMeans\n",
    "from sklearn.preprocessing import StandardScaler\n",
    "from sklearn.metrics import silhouette_score, silhouette_samples"
   ]
  },
  {
   "cell_type": "markdown",
   "id": "bb30357c",
   "metadata": {},
   "source": [
    "V datech teprve hledáme vzorce a uspořádání, případně vizualizaci. Jsou to úlohy \"bez supervize\". Např. eshop - zajímá nás, jaké skupiny lidí u nás nakupují. Další příklad: pro výstupy z médií požijeme - podobné články přiřadí k sobě. Často se řeší pomocí shlukové reprezentace: Cílem je data uspořádat do shluků / clusterů, které naše data reprezentují a dají se později použít pro nová data - podobně jako je tomu u úloh se supervizí."
   ]
  },
  {
   "cell_type": "markdown",
   "id": "dffe0270",
   "metadata": {},
   "source": [
    "# K-Means\n",
    "Výsledkem rozdělení je Voroného diagram. Existují i jiné algoritmy, které nerozdělují prostor do shluků lineárním způsobem. Dokumentace knihovny scikit-learn obsahuje velice pěkný přehled různých shlukovacích metod a jejich chování na lineárně (ne)dělitelných datech. Ve dvou dimenzích si lineárně dělitelná data můžeme představit tak, že jdou na papíře oddělit rovnými čarami.\n",
    "1) Inicializace: Určíme hodnotu K (známe nebo neznáme ji předem). Tozn. hledáme K clusterů a každý má jeden střed (= centroid). Ty náhodně rozřadí do prostoru našich dat - body v prvním kvartálu, jejich poloha je definována hodnotou na ose x a y.\n",
    "\n",
    "2) Program přiřadí každý bod z našich dat k jednomu centroidu podle vzdálenosti od tohoto centroidu. Bod patří do takového clusteru, ke kterému centroidu má nejblíže.\n",
    "\n",
    "3) Přesune centroidy doprosřed bodů, které k němu náleží.\n",
    "\n",
    "4) Opakujeme body 2 a 3.\n",
    "\n",
    "Interaktivní K-means: https://www.naftaliharris.com/blog/visualizing-k-means-clustering/"
   ]
  },
  {
   "cell_type": "code",
   "execution_count": 3,
   "id": "8288651f",
   "metadata": {},
   "outputs": [
    {
     "data": {
      "text/plain": [
       "363"
      ]
     },
     "execution_count": 3,
     "metadata": {},
     "output_type": "execute_result"
    }
   ],
   "source": [
    "datasets_url = (\n",
    "    \"https://raw.githubusercontent.com/lutydlitatova/czechitas-datasets/main/datasets\"\n",
    ")\n",
    "\n",
    "r = requests.get(f\"{datasets_url}/wine-quality.csv\")\n",
    "open(\"wine-quality.csv\", \"wb\").write(r.content)\n",
    "r = requests.get(f\"{datasets_url}/wine-quality-targets.csv\")\n",
    "open(\"wine-quality-targets.csv\", \"wb\").write(r.content)\n",
    "\n",
    "r = requests.get(f\"{datasets_url}/wine-regions.csv\")\n",
    "open(\"wine-regions.csv\", \"wb\").write(r.content)\n",
    "r = requests.get(f\"{datasets_url}/wine-regions-targets.csv\")\n",
    "open(\"wine-regions-targets.csv\", \"wb\").write(r.content)"
   ]
  },
  {
   "cell_type": "code",
   "execution_count": null,
   "id": "00c0042a",
   "metadata": {},
   "outputs": [],
   "source": []
  }
 ],
 "metadata": {
  "kernelspec": {
   "display_name": "Python 3 (ipykernel)",
   "language": "python",
   "name": "python3"
  },
  "language_info": {
   "codemirror_mode": {
    "name": "ipython",
    "version": 3
   },
   "file_extension": ".py",
   "mimetype": "text/x-python",
   "name": "python",
   "nbconvert_exporter": "python",
   "pygments_lexer": "ipython3",
   "version": "3.9.6"
  }
 },
 "nbformat": 4,
 "nbformat_minor": 5
}
