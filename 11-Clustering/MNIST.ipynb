{
 "cells": [
  {
   "cell_type": "markdown",
   "id": "12768669",
   "metadata": {},
   "source": [
    "Načti data do proměnné X:"
   ]
  },
  {
   "cell_type": "code",
   "execution_count": 1,
   "id": "e1a66b76",
   "metadata": {},
   "outputs": [],
   "source": [
    "from sklearn.datasets import load_digits\n",
    "\n",
    "digits = load_digits()\n",
    "X = digits.data"
   ]
  },
  {
   "cell_type": "markdown",
   "id": "1a062c98",
   "metadata": {},
   "source": [
    "Data normalizuj"
   ]
  },
  {
   "cell_type": "markdown",
   "id": "34e011a0",
   "metadata": {},
   "source": [
    "Redukuj počet vstupních proměnných na dvě pomocí TSNE. Můžeš vyzkoušet různé parametry."
   ]
  },
  {
   "cell_type": "markdown",
   "id": "0142217b",
   "metadata": {},
   "source": [
    "Vykresli data do bodového grafu. Kolik odhaduješ shluků (clusterů)?"
   ]
  },
  {
   "cell_type": "markdown",
   "id": "a1d741bd",
   "metadata": {},
   "source": [
    "Aplikuj algoritmus KMeans s počtem shluků, který jsi odhadl/a v předchozím kroku"
   ]
  },
  {
   "cell_type": "markdown",
   "id": "720fd1eb",
   "metadata": {},
   "source": [
    "Vyhodnoť výsledek pomocí silhouette_score, který by měl být alespoň 0.5"
   ]
  },
  {
   "cell_type": "markdown",
   "id": "8abaed50",
   "metadata": {},
   "source": [
    "# Dobrovolný doplněk\n",
    "Pokud jsi dosud nepátral/a po původu těchto dat, využij nápovědu níže. O jaký typ dat by se mohlo jednat? Zkus nastavovat různé hodnoty proměnné idx, která indexuje řádky původních dat - před redukcí dimenzionality!\n",
    "\n",
    "Uměli bychom jednotlivé clustery označit? Podle čeho se data shlukují?"
   ]
  },
  {
   "cell_type": "code",
   "execution_count": 3,
   "id": "e0b8c942",
   "metadata": {},
   "outputs": [
    {
     "data": {
      "text/plain": [
       "<matplotlib.image.AxesImage at 0x7fd55305dc40>"
      ]
     },
     "execution_count": 3,
     "metadata": {},
     "output_type": "execute_result"
    },
    {
     "data": {
      "image/png": "[encoded data removed]",
      "text/plain": [
       "<Figure size 432x288 with 1 Axes>"
      ]
     },
     "metadata": {
      "needs_background": "light"
     },
     "output_type": "display_data"
    }
   ],
   "source": [
    "import numpy as np\n",
    "import matplotlib.pyplot as plt\n",
    "\n",
    "idx = 0\n",
    "image = np.reshape(X[idx], (8, 8))\n",
    "plt.imshow(image, cmap=\"gray_r\")"
   ]
  }
 ],
 "metadata": {
  "kernelspec": {
   "display_name": "Python 3 (ipykernel)",
   "language": "python",
   "name": "python3"
  },
  "language_info": {
   "codemirror_mode": {
    "name": "ipython",
    "version": 3
   },
   "file_extension": ".py",
   "mimetype": "text/x-python",
   "name": "python",
   "nbconvert_exporter": "python",
   "pygments_lexer": "ipython3",
   "version": "3.9.6"
  }
 },
 "nbformat": 4,
 "nbformat_minor": 5
}
