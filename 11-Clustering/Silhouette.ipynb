{
 "cells": [
  {
   "cell_type": "markdown",
   "id": "6ffe47b5",
   "metadata": {},
   "source": [
    "V tomto úkolu nemusíš nic programovat.\n",
    "\n",
    "Porovnej čtyři datasety vykreslené jako dvourozměrné bodové grafy (složka <a href=\"https://github.com/pesikj/python-032021/tree/master/03_strojove_uceni/03/ukol/clusters/\">clusters</a>) se čtyřmi grafy, které zobrazují silhouette skóre těchto dat (složka <a href=\"https://github.com/pesikj/python-032021/tree/master/03_strojove_uceni/03/ukol/silhouettes/\">silhouettes</a>). Který dataset patří ke kterému grafu?\n",
    "\n",
    "Řešení je vždy dvojice číslo-písmeno, například 1-A, pokud bychom uvažovali, že dataset 1 patří k silhouette grafu A."
   ]
  }
 ],
 "metadata": {
  "kernelspec": {
   "display_name": "Python 3 (ipykernel)",
   "language": "python",
   "name": "python3"
  },
  "language_info": {
   "codemirror_mode": {
    "name": "ipython",
    "version": 3
   },
   "file_extension": ".py",
   "mimetype": "text/x-python",
   "name": "python",
   "nbconvert_exporter": "python",
   "pygments_lexer": "ipython3",
   "version": "3.9.6"
  }
 },
 "nbformat": 4,
 "nbformat_minor": 5
}
