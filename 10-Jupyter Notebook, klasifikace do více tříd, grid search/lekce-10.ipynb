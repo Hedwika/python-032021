{
 "cells": [
  {
   "cell_type": "code",
   "execution_count": 1,
   "id": "85d4bb51",
   "metadata": {},
   "outputs": [],
   "source": [
    "import pandas\n",
    "import requests\n",
    "import matplotlib.pyplot as plt\n",
    "\n",
    "from sklearn.metrics import (\n",
    "    accuracy_score,\n",
    "    confusion_matrix,\n",
    "    ConfusionMatrixDisplay,\n",
    "    f1_score,\n",
    "    precision_score,\n",
    "    recall_score,\n",
    ")\n",
    "from sklearn.preprocessing import OneHotEncoder, LabelEncoder\n",
    "from sklearn.neighbors import KNeighborsClassifier\n",
    "from sklearn.model_selection import train_test_split, GridSearchCV\n",
    "from sklearn.svm import LinearSVC"
   ]
  },
  {
   "cell_type": "markdown",
   "id": "f5f8ee55",
   "metadata": {},
   "source": [
    "# Klasifikace do více než dvou tříd\n",
    "Jak algoritmy přistupují k úloze klasifikace do více tříd?\n",
    "- Převedou úlohu s více třídami na problém dvou tříd, tedy binární klasifikaci (to dělá např. algoritmus SVM)\n",
    "    - Varianta \"Jeden proti všem (OvR)\": Algoritmus vytvoří tolik klasifikátorů, kolik máme tříd, a trénuje každý jako binární klasifikaci jedné třidy oproti všem ostatním. Při predikci každý z klasifikátorů předpoví buď \"svojí\" třídu, nebo \"ostatní třídy\". Z těch, které vyberou \"svojí\" třídu, algoritmus pak vybere tu, která má nejvyšší skóre, nebo jistotu.\n",
    "    - Jeden proti jednomu nebo každý proti každému (OvO): Algoritmus vytvoří tolik klasifikátorů, kolik je dvojic tříd. Při predikci pak algoritmus vybere tu třídu, která dostala nejvíc hlasů.\n",
    "- Úlohu řeší přímo (to dělá např. algoritmus KNN nebo rozhodovací strom, angl. decision tree)"
   ]
  },
  {
   "cell_type": "code",
   "execution_count": 2,
   "id": "85705498",
   "metadata": {},
   "outputs": [
    {
     "data": {
      "text/plain": [
       "26524"
      ]
     },
     "execution_count": 2,
     "metadata": {},
     "output_type": "execute_result"
    }
   ],
   "source": [
    "r = requests.get(\n",
    "    \"https://raw.githubusercontent.com/lutydlitatova/czechitas-datasets/main/datasets/soybean-1-spot.csv\"\n",
    ")\n",
    "open(\"soybean-1-spot.csv\", \"wb\").write(r.content)"
   ]
  },
  {
   "cell_type": "code",
   "execution_count": 3,
   "id": "1d7aeeb8",
   "metadata": {},
   "outputs": [
    {
     "data": {
      "text/html": [
       "<div>\n",
       "<style scoped>\n",
       "    .dataframe tbody tr th:only-of-type {\n",
       "        vertical-align: middle;\n",
       "    }\n",
       "\n",
       "    .dataframe tbody tr th {\n",
       "        vertical-align: top;\n",
       "    }\n",
       "\n",
       "    .dataframe thead th {\n",
       "        text-align: right;\n",
       "    }\n",
       "</style>\n",
       "<table border=\"1\" class=\"dataframe\">\n",
       "  <thead>\n",
       "    <tr style=\"text-align: right;\">\n",
       "      <th></th>\n",
       "      <th>leaf-shread</th>\n",
       "      <th>stem</th>\n",
       "      <th>lodging</th>\n",
       "      <th>stem-cankers</th>\n",
       "      <th>fruiting-bodies</th>\n",
       "      <th>external-decay</th>\n",
       "      <th>fruit-pods</th>\n",
       "      <th>fruit-spots</th>\n",
       "      <th>seed</th>\n",
       "      <th>seed-discolor</th>\n",
       "      <th>seed-size</th>\n",
       "      <th>shriveling</th>\n",
       "      <th>class</th>\n",
       "    </tr>\n",
       "  </thead>\n",
       "  <tbody>\n",
       "    <tr>\n",
       "      <th>0</th>\n",
       "      <td>absent</td>\n",
       "      <td>norm</td>\n",
       "      <td>yes</td>\n",
       "      <td>absent</td>\n",
       "      <td>absent</td>\n",
       "      <td>absent</td>\n",
       "      <td>norm</td>\n",
       "      <td>absent</td>\n",
       "      <td>norm</td>\n",
       "      <td>absent</td>\n",
       "      <td>norm</td>\n",
       "      <td>absent</td>\n",
       "      <td>brown-spot</td>\n",
       "    </tr>\n",
       "    <tr>\n",
       "      <th>1</th>\n",
       "      <td>absent</td>\n",
       "      <td>norm</td>\n",
       "      <td>yes</td>\n",
       "      <td>absent</td>\n",
       "      <td>absent</td>\n",
       "      <td>absent</td>\n",
       "      <td>norm</td>\n",
       "      <td>absent</td>\n",
       "      <td>norm</td>\n",
       "      <td>absent</td>\n",
       "      <td>norm</td>\n",
       "      <td>absent</td>\n",
       "      <td>brown-spot</td>\n",
       "    </tr>\n",
       "    <tr>\n",
       "      <th>2</th>\n",
       "      <td>present</td>\n",
       "      <td>norm</td>\n",
       "      <td>yes</td>\n",
       "      <td>absent</td>\n",
       "      <td>absent</td>\n",
       "      <td>absent</td>\n",
       "      <td>norm</td>\n",
       "      <td>absent</td>\n",
       "      <td>norm</td>\n",
       "      <td>absent</td>\n",
       "      <td>norm</td>\n",
       "      <td>absent</td>\n",
       "      <td>brown-spot</td>\n",
       "    </tr>\n",
       "    <tr>\n",
       "      <th>3</th>\n",
       "      <td>present</td>\n",
       "      <td>norm</td>\n",
       "      <td>yes</td>\n",
       "      <td>absent</td>\n",
       "      <td>absent</td>\n",
       "      <td>absent</td>\n",
       "      <td>norm</td>\n",
       "      <td>absent</td>\n",
       "      <td>norm</td>\n",
       "      <td>absent</td>\n",
       "      <td>norm</td>\n",
       "      <td>absent</td>\n",
       "      <td>brown-spot</td>\n",
       "    </tr>\n",
       "    <tr>\n",
       "      <th>4</th>\n",
       "      <td>absent</td>\n",
       "      <td>norm</td>\n",
       "      <td>yes</td>\n",
       "      <td>absent</td>\n",
       "      <td>absent</td>\n",
       "      <td>absent</td>\n",
       "      <td>norm</td>\n",
       "      <td>absent</td>\n",
       "      <td>norm</td>\n",
       "      <td>absent</td>\n",
       "      <td>norm</td>\n",
       "      <td>absent</td>\n",
       "      <td>brown-spot</td>\n",
       "    </tr>\n",
       "    <tr>\n",
       "      <th>...</th>\n",
       "      <td>...</td>\n",
       "      <td>...</td>\n",
       "      <td>...</td>\n",
       "      <td>...</td>\n",
       "      <td>...</td>\n",
       "      <td>...</td>\n",
       "      <td>...</td>\n",
       "      <td>...</td>\n",
       "      <td>...</td>\n",
       "      <td>...</td>\n",
       "      <td>...</td>\n",
       "      <td>...</td>\n",
       "      <td>...</td>\n",
       "    </tr>\n",
       "    <tr>\n",
       "      <th>269</th>\n",
       "      <td>absent</td>\n",
       "      <td>abnorm</td>\n",
       "      <td>yes</td>\n",
       "      <td>above-sec-nde</td>\n",
       "      <td>absent</td>\n",
       "      <td>firm-and-dry</td>\n",
       "      <td>diseased</td>\n",
       "      <td>colored</td>\n",
       "      <td>norm</td>\n",
       "      <td>absent</td>\n",
       "      <td>norm</td>\n",
       "      <td>absent</td>\n",
       "      <td>frog-eye-leaf-spot</td>\n",
       "    </tr>\n",
       "    <tr>\n",
       "      <th>270</th>\n",
       "      <td>absent</td>\n",
       "      <td>abnorm</td>\n",
       "      <td>yes</td>\n",
       "      <td>above-sec-nde</td>\n",
       "      <td>absent</td>\n",
       "      <td>firm-and-dry</td>\n",
       "      <td>diseased</td>\n",
       "      <td>colored</td>\n",
       "      <td>norm</td>\n",
       "      <td>absent</td>\n",
       "      <td>norm</td>\n",
       "      <td>absent</td>\n",
       "      <td>frog-eye-leaf-spot</td>\n",
       "    </tr>\n",
       "    <tr>\n",
       "      <th>271</th>\n",
       "      <td>absent</td>\n",
       "      <td>abnorm</td>\n",
       "      <td>yes</td>\n",
       "      <td>above-sec-nde</td>\n",
       "      <td>absent</td>\n",
       "      <td>firm-and-dry</td>\n",
       "      <td>diseased</td>\n",
       "      <td>colored</td>\n",
       "      <td>norm</td>\n",
       "      <td>absent</td>\n",
       "      <td>norm</td>\n",
       "      <td>absent</td>\n",
       "      <td>frog-eye-leaf-spot</td>\n",
       "    </tr>\n",
       "    <tr>\n",
       "      <th>272</th>\n",
       "      <td>absent</td>\n",
       "      <td>abnorm</td>\n",
       "      <td>yes</td>\n",
       "      <td>above-sec-nde</td>\n",
       "      <td>absent</td>\n",
       "      <td>firm-and-dry</td>\n",
       "      <td>diseased</td>\n",
       "      <td>colored</td>\n",
       "      <td>norm</td>\n",
       "      <td>absent</td>\n",
       "      <td>norm</td>\n",
       "      <td>absent</td>\n",
       "      <td>frog-eye-leaf-spot</td>\n",
       "    </tr>\n",
       "    <tr>\n",
       "      <th>273</th>\n",
       "      <td>absent</td>\n",
       "      <td>abnorm</td>\n",
       "      <td>yes</td>\n",
       "      <td>above-sec-nde</td>\n",
       "      <td>absent</td>\n",
       "      <td>firm-and-dry</td>\n",
       "      <td>diseased</td>\n",
       "      <td>colored</td>\n",
       "      <td>norm</td>\n",
       "      <td>absent</td>\n",
       "      <td>norm</td>\n",
       "      <td>absent</td>\n",
       "      <td>frog-eye-leaf-spot</td>\n",
       "    </tr>\n",
       "  </tbody>\n",
       "</table>\n",
       "<p>274 rows × 13 columns</p>\n",
       "</div>"
      ],
      "text/plain": [
       "    leaf-shread    stem lodging   stem-cankers fruiting-bodies external-decay  \\\n",
       "0        absent    norm     yes         absent          absent         absent   \n",
       "1        absent    norm     yes         absent          absent         absent   \n",
       "2       present    norm     yes         absent          absent         absent   \n",
       "3       present    norm     yes         absent          absent         absent   \n",
       "4        absent    norm     yes         absent          absent         absent   \n",
       "..          ...     ...     ...            ...             ...            ...   \n",
       "269      absent  abnorm     yes  above-sec-nde          absent   firm-and-dry   \n",
       "270      absent  abnorm     yes  above-sec-nde          absent   firm-and-dry   \n",
       "271      absent  abnorm     yes  above-sec-nde          absent   firm-and-dry   \n",
       "272      absent  abnorm     yes  above-sec-nde          absent   firm-and-dry   \n",
       "273      absent  abnorm     yes  above-sec-nde          absent   firm-and-dry   \n",
       "\n",
       "    fruit-pods fruit-spots  seed seed-discolor seed-size shriveling  \\\n",
       "0         norm      absent  norm        absent      norm     absent   \n",
       "1         norm      absent  norm        absent      norm     absent   \n",
       "2         norm      absent  norm        absent      norm     absent   \n",
       "3         norm      absent  norm        absent      norm     absent   \n",
       "4         norm      absent  norm        absent      norm     absent   \n",
       "..         ...         ...   ...           ...       ...        ...   \n",
       "269   diseased     colored  norm        absent      norm     absent   \n",
       "270   diseased     colored  norm        absent      norm     absent   \n",
       "271   diseased     colored  norm        absent      norm     absent   \n",
       "272   diseased     colored  norm        absent      norm     absent   \n",
       "273   diseased     colored  norm        absent      norm     absent   \n",
       "\n",
       "                  class  \n",
       "0            brown-spot  \n",
       "1            brown-spot  \n",
       "2            brown-spot  \n",
       "3            brown-spot  \n",
       "4            brown-spot  \n",
       "..                  ...  \n",
       "269  frog-eye-leaf-spot  \n",
       "270  frog-eye-leaf-spot  \n",
       "271  frog-eye-leaf-spot  \n",
       "272  frog-eye-leaf-spot  \n",
       "273  frog-eye-leaf-spot  \n",
       "\n",
       "[274 rows x 13 columns]"
      ]
     },
     "execution_count": 3,
     "metadata": {},
     "output_type": "execute_result"
    }
   ],
   "source": [
    "data = pandas.read_csv(\"soybean-1-spot.csv\")\n",
    "data"
   ]
  },
  {
   "cell_type": "code",
   "execution_count": 4,
   "id": "33483eec",
   "metadata": {},
   "outputs": [
    {
     "data": {
      "text/plain": [
       "brown-spot             92\n",
       "alternarialeaf-spot    91\n",
       "frog-eye-leaf-spot     91\n",
       "Name: class, dtype: int64"
      ]
     },
     "execution_count": 4,
     "metadata": {},
     "output_type": "execute_result"
    }
   ],
   "source": [
    "data[\"class\"].value_counts()"
   ]
  },
  {
   "cell_type": "code",
   "execution_count": 5,
   "id": "21ef4c8d",
   "metadata": {},
   "outputs": [
    {
     "data": {
      "text/plain": [
       "norm      171\n",
       "abnorm    103\n",
       "Name: stem, dtype: int64"
      ]
     },
     "execution_count": 5,
     "metadata": {},
     "output_type": "execute_result"
    }
   ],
   "source": [
    "data[\"stem\"].value_counts()"
   ]
  },
  {
   "cell_type": "code",
   "execution_count": 6,
   "id": "2a5d673f",
   "metadata": {},
   "outputs": [],
   "source": [
    "X = data.drop(columns=[\"class\"])\n",
    "y = data[\"class\"]"
   ]
  },
  {
   "cell_type": "markdown",
   "id": "fd80cd5c",
   "metadata": {},
   "source": [
    "Kategorické proměnné, v tomto případě všechny, musíme převést na číselné, pomocí metody one-hot (angl. one-hot encoding)."
   ]
  },
  {
   "cell_type": "code",
   "execution_count": 7,
   "id": "c21f264f",
   "metadata": {},
   "outputs": [],
   "source": [
    "encoder = OneHotEncoder()\n",
    "X = encoder.fit_transform(X)"
   ]
  },
  {
   "cell_type": "code",
   "execution_count": 10,
   "id": "108e109e",
   "metadata": {},
   "outputs": [
    {
     "ename": "AttributeError",
     "evalue": "'OneHotEncoder' object has no attribute 'get_feature_names_out'",
     "output_type": "error",
     "traceback": [
      "\u001b[1;31m---------------------------------------------------------------------------\u001b[0m",
      "\u001b[1;31mAttributeError\u001b[0m                            Traceback (most recent call last)",
      "\u001b[1;32mC:\\Users\\HEDVDE~1\\AppData\\Local\\Temp/ipykernel_23508/2353703120.py\u001b[0m in \u001b[0;36m<module>\u001b[1;34m\u001b[0m\n\u001b[1;32m----> 1\u001b[1;33m \u001b[0mpandas\u001b[0m\u001b[1;33m.\u001b[0m\u001b[0mDataFrame\u001b[0m\u001b[1;33m(\u001b[0m\u001b[0mX\u001b[0m\u001b[1;33m.\u001b[0m\u001b[0mtoarray\u001b[0m\u001b[1;33m(\u001b[0m\u001b[1;33m)\u001b[0m\u001b[1;33m,\u001b[0m \u001b[0mcolumns\u001b[0m\u001b[1;33m=\u001b[0m\u001b[0mencoder\u001b[0m\u001b[1;33m.\u001b[0m\u001b[0mget_feature_names_out\u001b[0m\u001b[1;33m(\u001b[0m\u001b[1;33m)\u001b[0m\u001b[1;33m)\u001b[0m\u001b[1;33m.\u001b[0m\u001b[0mhead\u001b[0m\u001b[1;33m(\u001b[0m\u001b[1;33m)\u001b[0m\u001b[1;33m\u001b[0m\u001b[1;33m\u001b[0m\u001b[0m\n\u001b[0m",
      "\u001b[1;31mAttributeError\u001b[0m: 'OneHotEncoder' object has no attribute 'get_feature_names_out'"
     ]
    }
   ],
   "source": [
    "pandas.DataFrame(X.toarray(), columns=encoder.get_feature_names_out()).head()"
   ]
  },
  {
   "cell_type": "markdown",
   "id": "f98e3785",
   "metadata": {},
   "source": [
    "Třídy převedeme na celočíselnou reprezentaci"
   ]
  },
  {
   "cell_type": "code",
   "execution_count": 12,
   "id": "982e6967",
   "metadata": {},
   "outputs": [
    {
     "data": {
      "text/plain": [
       "array([1, 1, 1, 1, 1, 1, 1, 1, 1, 1, 1, 1, 1, 1, 1, 1, 1, 1, 1, 1, 1, 1,\n",
       "       1, 1, 1, 1, 1, 1, 1, 1, 1, 1, 1, 1, 1, 1, 1, 1, 1, 1, 0, 0, 0, 0,\n",
       "       0, 0, 0, 0, 0, 0, 0, 0, 0, 0, 0, 0, 0, 0, 0, 0, 0, 0, 0, 0, 0, 0,\n",
       "       0, 0, 0, 0, 0, 0, 0, 0, 0, 0, 0, 0, 0, 0, 2, 2, 2, 2, 2, 2, 2, 2,\n",
       "       2, 2, 2, 2, 2, 2, 2, 2, 2, 2, 2, 2, 2, 2, 2, 2, 2, 2, 2, 2, 2, 2,\n",
       "       2, 2, 2, 2, 2, 2, 2, 2, 2, 2, 1, 1, 1, 1, 1, 1, 1, 1, 1, 1, 1, 1,\n",
       "       1, 1, 1, 1, 1, 1, 1, 1, 1, 1, 1, 1, 1, 1, 1, 1, 1, 1, 1, 1, 1, 1,\n",
       "       1, 1, 1, 1, 1, 1, 1, 1, 1, 1, 1, 1, 1, 1, 1, 1, 1, 1, 0, 0, 0, 0,\n",
       "       0, 0, 0, 0, 0, 0, 0, 0, 0, 0, 0, 0, 0, 0, 0, 0, 0, 0, 0, 0, 0, 0,\n",
       "       0, 0, 0, 0, 0, 0, 0, 0, 0, 0, 0, 0, 0, 0, 0, 0, 0, 0, 0, 0, 0, 0,\n",
       "       0, 0, 0, 2, 2, 2, 2, 2, 2, 2, 2, 2, 2, 2, 2, 2, 2, 2, 2, 2, 2, 2,\n",
       "       2, 2, 2, 2, 2, 2, 2, 2, 2, 2, 2, 2, 2, 2, 2, 2, 2, 2, 2, 2, 2, 2,\n",
       "       2, 2, 2, 2, 2, 2, 2, 2, 2, 2], dtype=int64)"
      ]
     },
     "execution_count": 12,
     "metadata": {},
     "output_type": "execute_result"
    }
   ],
   "source": [
    "encoder = LabelEncoder()\n",
    "y = encoder.fit_transform(y)\n",
    "y"
   ]
  },
  {
   "cell_type": "markdown",
   "id": "0d418da5",
   "metadata": {},
   "source": [
    "Rozdělíme data na trénovací a testovací sadu.\n",
    "\n",
    "Parametr stratify určuje, podle jakého sloupce chceme zachovat poměr hodnot. V našem případě chceme zachovat poměr tříd (aby v trénovacích i testovacích datech byly třídy podobně zastoupené)."
   ]
  },
  {
   "cell_type": "code",
   "execution_count": 13,
   "id": "1055ab80",
   "metadata": {},
   "outputs": [],
   "source": [
    "X_train, X_test, y_train, y_test = train_test_split(\n",
    "    X, y, test_size=0.2, random_state=42, stratify=y\n",
    ")"
   ]
  },
  {
   "cell_type": "code",
   "execution_count": 14,
   "id": "1a6de88d",
   "metadata": {},
   "outputs": [],
   "source": [
    "clf = KNeighborsClassifier()\n",
    "clf.fit(X_train, y_train)\n",
    "y_pred = clf.predict(X_test)"
   ]
  },
  {
   "cell_type": "markdown",
   "id": "282bc0b2",
   "metadata": {},
   "source": [
    "Jak vyhodnocujeme klasifikaci do více tříd?\n",
    "Podíváme se, jak vypadá chybová matice pro více tříd. Funguje na stejném principu, jen je větší, a není na první pohled jasné, jak spočítat metriky jako precision nebo recall. Všimněme si ale, že základní metriky accuracy je stejná: Součet hodnot na diagonále (součet správně určených bodů) oproti velikosti datasetu."
   ]
  },
  {
   "cell_type": "code",
   "execution_count": 16,
   "id": "86daca5c",
   "metadata": {},
   "outputs": [
    {
     "data": {
      "text/plain": [
       "array([[18,  0,  0],\n",
       "       [ 4, 15,  0],\n",
       "       [ 7,  1, 10]], dtype=int64)"
      ]
     },
     "execution_count": 16,
     "metadata": {},
     "output_type": "execute_result"
    }
   ],
   "source": [
    "confusion_matrix(y_test, y_pred)"
   ]
  },
  {
   "cell_type": "code",
   "execution_count": 17,
   "id": "a07fbba2",
   "metadata": {},
   "outputs": [
    {
     "ename": "AttributeError",
     "evalue": "type object 'ConfusionMatrixDisplay' has no attribute 'from_estimator'",
     "output_type": "error",
     "traceback": [
      "\u001b[1;31m---------------------------------------------------------------------------\u001b[0m",
      "\u001b[1;31mAttributeError\u001b[0m                            Traceback (most recent call last)",
      "\u001b[1;32mC:\\Users\\HEDVDE~1\\AppData\\Local\\Temp/ipykernel_23508/1632195690.py\u001b[0m in \u001b[0;36m<module>\u001b[1;34m\u001b[0m\n\u001b[1;32m----> 1\u001b[1;33m ConfusionMatrixDisplay.from_estimator(\n\u001b[0m\u001b[0;32m      2\u001b[0m     \u001b[0mclf\u001b[0m\u001b[1;33m,\u001b[0m\u001b[1;33m\u001b[0m\u001b[1;33m\u001b[0m\u001b[0m\n\u001b[0;32m      3\u001b[0m     \u001b[0mX_test\u001b[0m\u001b[1;33m,\u001b[0m\u001b[1;33m\u001b[0m\u001b[1;33m\u001b[0m\u001b[0m\n\u001b[0;32m      4\u001b[0m     \u001b[0my_test\u001b[0m\u001b[1;33m,\u001b[0m\u001b[1;33m\u001b[0m\u001b[1;33m\u001b[0m\u001b[0m\n\u001b[0;32m      5\u001b[0m     \u001b[0mdisplay_labels\u001b[0m\u001b[1;33m=\u001b[0m\u001b[0mencoder\u001b[0m\u001b[1;33m.\u001b[0m\u001b[0mclasses_\u001b[0m\u001b[1;33m,\u001b[0m\u001b[1;33m\u001b[0m\u001b[1;33m\u001b[0m\u001b[0m\n",
      "\u001b[1;31mAttributeError\u001b[0m: type object 'ConfusionMatrixDisplay' has no attribute 'from_estimator'"
     ]
    }
   ],
   "source": [
    "ConfusionMatrixDisplay.from_estimator(\n",
    "    clf,\n",
    "    X_test,\n",
    "    y_test,\n",
    "    display_labels=encoder.classes_,\n",
    "    cmap=plt.cm.Blues,\n",
    ")"
   ]
  },
  {
   "cell_type": "markdown",
   "id": "a228420c",
   "metadata": {},
   "source": [
    "Metrikám, které pracují s dvěma typy chyb (False Positive, False Negative), můžeme dát parametr average s hodnotou \"weighted\". Spočítají tak vážený průměr přes všechny třídy. Například pro třídu alternarialeaf-spot bychom pracovali s hodnotami 18 (True Positive), 0 (False Positive) a 11 (False Negative)."
   ]
  },
  {
   "cell_type": "code",
   "execution_count": 19,
   "id": "18b079bf",
   "metadata": {},
   "outputs": [
    {
     "name": "stdout",
     "output_type": "stream",
     "text": [
      "0.782\n",
      "0.781\n"
     ]
    }
   ],
   "source": [
    "print(round(accuracy_score(y_test, y_pred), 3))\n",
    "print(round(f1_score(y_test, y_pred, average=\"weighted\"), 3))"
   ]
  },
  {
   "cell_type": "markdown",
   "id": "d9913c68",
   "metadata": {},
   "source": [
    "# Upravení více parametrů: Grid search\n",
    "V minulé lekci jsme si ukazovali, že na trénování modelu může mít vliv hodnota jeho některého parametru. Například u algoritmu K Nearest Neighbors jsme zkoušeli nastavit různé hodnoty parametru n_neighbors pomocí for cyklu. Když bychom parametrů měli víc, můžeme použít vnořený for cyklus, ale brzy by se nám výsledky špatně porovnávaly. V knihovně scikit-learn existuje třída GridSearchCV, která nejlepší nastavení parametrů zjistí za nás.\n",
    "\n",
    "Dělá to tak, že si trénovací data rozdělí na několik částí, a na těchto rozdělených datech trénuje a testuje model s různými parametry. Pak výsledky zprůměruje přes všechny díly a na základě toho určí nejlepší parametry."
   ]
  },
  {
   "cell_type": "code",
   "execution_count": 20,
   "id": "0ddaf342",
   "metadata": {},
   "outputs": [
    {
     "name": "stdout",
     "output_type": "stream",
     "text": [
      "{'n_neighbors': 11}\n",
      "0.77\n"
     ]
    }
   ],
   "source": [
    "model_1 = KNeighborsClassifier()\n",
    "params_1 = {\"n_neighbors\": [1, 5, 7, 11, 13]}\n",
    "\n",
    "clf_1 = GridSearchCV(model_1, params_1, scoring=\"f1_weighted\")\n",
    "clf_1.fit(X_train, y_train)\n",
    "\n",
    "print(clf_1.best_params_)\n",
    "print(round(clf_1.best_score_, 2))"
   ]
  },
  {
   "cell_type": "code",
   "execution_count": 24,
   "id": "9bf2881a",
   "metadata": {},
   "outputs": [
    {
     "name": "stdout",
     "output_type": "stream",
     "text": [
      "{'C': 1}\n",
      "0.77\n"
     ]
    }
   ],
   "source": [
    "model_2 = LinearSVC(random_state=42)\n",
    "params_2 = {\"C\": [0.01, 0.01, 0.1, 1]}\n",
    "\n",
    "clf_2 = GridSearchCV(model_2, params_2, scoring=\"f1_weighted\")\n",
    "clf_2.fit(X_train, y_train)\n",
    "\n",
    "print(clf_2.best_params_)\n",
    "print(round(clf_2.best_score_, 2))"
   ]
  },
  {
   "cell_type": "code",
   "execution_count": 25,
   "id": "e8a1d9ed",
   "metadata": {},
   "outputs": [
    {
     "ename": "AttributeError",
     "evalue": "'KNeighborsClassifier' object has no attribute 'best_estimator_'",
     "output_type": "error",
     "traceback": [
      "\u001b[1;31m---------------------------------------------------------------------------\u001b[0m",
      "\u001b[1;31mAttributeError\u001b[0m                            Traceback (most recent call last)",
      "\u001b[1;32mC:\\Users\\HEDVDE~1\\AppData\\Local\\Temp/ipykernel_23508/1504903052.py\u001b[0m in \u001b[0;36m<module>\u001b[1;34m\u001b[0m\n\u001b[1;32m----> 1\u001b[1;33m \u001b[0my_pred\u001b[0m \u001b[1;33m=\u001b[0m \u001b[0mclf\u001b[0m\u001b[1;33m.\u001b[0m\u001b[0mbest_estimator_\u001b[0m\u001b[1;33m.\u001b[0m\u001b[0mpredict\u001b[0m\u001b[1;33m(\u001b[0m\u001b[0mX_test\u001b[0m\u001b[1;33m)\u001b[0m\u001b[1;33m\u001b[0m\u001b[1;33m\u001b[0m\u001b[0m\n\u001b[0m",
      "\u001b[1;31mAttributeError\u001b[0m: 'KNeighborsClassifier' object has no attribute 'best_estimator_'"
     ]
    }
   ],
   "source": [
    "y_pred = clf.best_estimator_.predict(X_test)"
   ]
  },
  {
   "cell_type": "code",
   "execution_count": 26,
   "id": "cb4ad19a",
   "metadata": {},
   "outputs": [
    {
     "data": {
      "text/plain": [
       "0.78"
      ]
     },
     "execution_count": 26,
     "metadata": {},
     "output_type": "execute_result"
    }
   ],
   "source": [
    "round(f1_score(y_test, y_pred, average=\"weighted\"), 2)"
   ]
  },
  {
   "cell_type": "code",
   "execution_count": null,
   "id": "b6b7e180",
   "metadata": {},
   "outputs": [],
   "source": []
  }
 ],
 "metadata": {
  "kernelspec": {
   "display_name": "Python 3 (ipykernel)",
   "language": "python",
   "name": "python3"
  },
  "language_info": {
   "codemirror_mode": {
    "name": "ipython",
    "version": 3
   },
   "file_extension": ".py",
   "mimetype": "text/x-python",
   "name": "python",
   "nbconvert_exporter": "python",
   "pygments_lexer": "ipython3",
   "version": "3.9.6"
  }
 },
 "nbformat": 4,
 "nbformat_minor": 5
}
